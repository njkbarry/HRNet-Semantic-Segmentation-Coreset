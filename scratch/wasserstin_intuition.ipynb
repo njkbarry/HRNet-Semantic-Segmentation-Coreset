{
 "cells": [
  {
   "cell_type": "code",
   "execution_count": 1,
   "metadata": {},
   "outputs": [
    {
     "name": "stderr",
     "output_type": "stream",
     "text": [
      "/home/nickbarry/Documents/MsC-DS/Data_Science_Research_Project/Coresets/Repositories/HRNet-Semantic-Segmentation-Coreset/venv/lib/python3.8/site-packages/tqdm/auto.py:21: TqdmWarning: IProgress not found. Please update jupyter and ipywidgets. See https://ipywidgets.readthedocs.io/en/stable/user_install.html\n",
      "  from .autonotebook import tqdm as notebook_tqdm\n"
     ]
    }
   ],
   "source": [
    "\"\"\"\n",
    "Programmer: Chris Tralie\n",
    "Purpose: To use the POT library (https://github.com/rflamary/POT)\n",
    "to compute the Entropic regularized Wasserstein distance \n",
    "between points on a 2D grid\n",
    "\"\"\"\n",
    "import numpy as np\n",
    "import matplotlib.pyplot as plt\n",
    "import ot"
   ]
  },
  {
   "cell_type": "code",
   "execution_count": 21,
   "metadata": {},
   "outputs": [],
   "source": [
    "## Step 1: Setup problem\n",
    "pix = np.linspace(-1, 1, 17)\n",
    "# Setup grid\n",
    "X, Y = np.meshgrid(pix, pix)\n",
    "# Compute pariwise distances between points on 2D grid so we know\n",
    "# how to score the Wasserstein distance\n",
    "coords = np.array([X.flatten(), Y.flatten()]).T\n",
    "coordsSqr = np.sum(coords**2, 1)\n",
    "M = coordsSqr[:, None] + coordsSqr[None, :] - 2*coords.dot(coords.T)\n",
    "M[M < 0] = 0\n",
    "M = np.sqrt(M)"
   ]
  },
  {
   "cell_type": "code",
   "execution_count": 107,
   "metadata": {},
   "outputs": [
    {
     "ename": "AssertionError",
     "evalue": "\nArrays are not almost equal to 6 decimals\na and b vector must have the same sum\nMismatched elements: 1 / 1 (100%)\nMax absolute difference: 0.99403697\nMax relative difference: 0.23798587\n x: array(5.170911)\n y: array([4.176874])",
     "output_type": "error",
     "traceback": [
      "\u001b[0;31m---------------------------------------------------------------------------\u001b[0m",
      "\u001b[0;31mAssertionError\u001b[0m                            Traceback (most recent call last)",
      "Cell \u001b[0;32mIn[107], line 18\u001b[0m\n\u001b[1;32m     15\u001b[0m A \u001b[39m=\u001b[39m np\u001b[39m.\u001b[39mrandom\u001b[39m.\u001b[39mrand(n,n)\n\u001b[1;32m     16\u001b[0m B \u001b[39m=\u001b[39m np\u001b[39m.\u001b[39mrandom\u001b[39m.\u001b[39mrand(n,n)\n\u001b[0;32m---> 18\u001b[0m wass \u001b[39m=\u001b[39m ot\u001b[39m.\u001b[39;49memd2(A\u001b[39m.\u001b[39;49mflatten(), B\u001b[39m.\u001b[39;49mflatten(), M, \u001b[39m1.0\u001b[39;49m)\n\u001b[1;32m     19\u001b[0m \u001b[39mprint\u001b[39m(wass)\n\u001b[1;32m     21\u001b[0m wass \u001b[39m=\u001b[39m ot\u001b[39m.\u001b[39memd2(A\u001b[39m.\u001b[39mflatten(), A\u001b[39m.\u001b[39mflatten(), M, \u001b[39m1.0\u001b[39m)\n",
      "File \u001b[0;32m~/Documents/MsC-DS/Data_Science_Research_Project/Coresets/Repositories/HRNet-Semantic-Segmentation-Coreset/venv/lib/python3.8/site-packages/ot/lp/__init__.py:505\u001b[0m, in \u001b[0;36memd2\u001b[0;34m(a, b, M, processes, numItermax, log, return_matrix, center_dual, numThreads, check_marginals)\u001b[0m\n\u001b[1;32m    503\u001b[0m \u001b[39m# ensure that same mass\u001b[39;00m\n\u001b[1;32m    504\u001b[0m \u001b[39mif\u001b[39;00m check_marginals:\n\u001b[0;32m--> 505\u001b[0m     np\u001b[39m.\u001b[39;49mtesting\u001b[39m.\u001b[39;49massert_almost_equal(a\u001b[39m.\u001b[39;49msum(\u001b[39m0\u001b[39;49m),\n\u001b[1;32m    506\u001b[0m                                 b\u001b[39m.\u001b[39;49msum(\u001b[39m0\u001b[39;49m,keepdims\u001b[39m=\u001b[39;49m\u001b[39mTrue\u001b[39;49;00m), err_msg\u001b[39m=\u001b[39;49m\u001b[39m'\u001b[39;49m\u001b[39ma and b vector must have the same sum\u001b[39;49m\u001b[39m'\u001b[39;49m,\n\u001b[1;32m    507\u001b[0m                                 decimal\u001b[39m=\u001b[39;49m\u001b[39m6\u001b[39;49m)\n\u001b[1;32m    508\u001b[0m b \u001b[39m=\u001b[39m b \u001b[39m*\u001b[39m a\u001b[39m.\u001b[39msum(\u001b[39m0\u001b[39m) \u001b[39m/\u001b[39m b\u001b[39m.\u001b[39msum(\u001b[39m0\u001b[39m,keepdims\u001b[39m=\u001b[39m\u001b[39mTrue\u001b[39;00m)\n\u001b[1;32m    510\u001b[0m asel \u001b[39m=\u001b[39m a \u001b[39m!=\u001b[39m \u001b[39m0\u001b[39m\n",
      "    \u001b[0;31m[... skipping hidden 2 frame]\u001b[0m\n",
      "File \u001b[0;32m~/Documents/MsC-DS/Data_Science_Research_Project/Coresets/Repositories/HRNet-Semantic-Segmentation-Coreset/venv/lib/python3.8/site-packages/numpy/testing/_private/utils.py:842\u001b[0m, in \u001b[0;36massert_array_compare\u001b[0;34m(comparison, x, y, err_msg, verbose, header, precision, equal_nan, equal_inf)\u001b[0m\n\u001b[1;32m    838\u001b[0m         err_msg \u001b[39m+\u001b[39m\u001b[39m=\u001b[39m \u001b[39m'\u001b[39m\u001b[39m\\n\u001b[39;00m\u001b[39m'\u001b[39m \u001b[39m+\u001b[39m \u001b[39m'\u001b[39m\u001b[39m\\n\u001b[39;00m\u001b[39m'\u001b[39m\u001b[39m.\u001b[39mjoin(remarks)\n\u001b[1;32m    839\u001b[0m         msg \u001b[39m=\u001b[39m build_err_msg([ox, oy], err_msg,\n\u001b[1;32m    840\u001b[0m                             verbose\u001b[39m=\u001b[39mverbose, header\u001b[39m=\u001b[39mheader,\n\u001b[1;32m    841\u001b[0m                             names\u001b[39m=\u001b[39m(\u001b[39m'\u001b[39m\u001b[39mx\u001b[39m\u001b[39m'\u001b[39m, \u001b[39m'\u001b[39m\u001b[39my\u001b[39m\u001b[39m'\u001b[39m), precision\u001b[39m=\u001b[39mprecision)\n\u001b[0;32m--> 842\u001b[0m         \u001b[39mraise\u001b[39;00m \u001b[39mAssertionError\u001b[39;00m(msg)\n\u001b[1;32m    843\u001b[0m \u001b[39mexcept\u001b[39;00m \u001b[39mValueError\u001b[39;00m:\n\u001b[1;32m    844\u001b[0m     \u001b[39mimport\u001b[39;00m \u001b[39mtraceback\u001b[39;00m\n",
      "\u001b[0;31mAssertionError\u001b[0m: \nArrays are not almost equal to 6 decimals\na and b vector must have the same sum\nMismatched elements: 1 / 1 (100%)\nMax absolute difference: 0.99403697\nMax relative difference: 0.23798587\n x: array(5.170911)\n y: array([4.176874])"
     ]
    }
   ],
   "source": [
    "n = 3\n",
    "\n",
    "## Step 1: Setup problem\n",
    "pix = np.linspace(-1, 1, n)\n",
    "# Setup grid\n",
    "X, Y = np.meshgrid(pix, pix)\n",
    "# Compute pariwise distances between points on 2D grid so we know\n",
    "# how to score the Wasserstein distance\n",
    "coords = np.array([X.flatten(), Y.flatten()]).T\n",
    "coordsSqr = np.sum(coords**2, 1)\n",
    "M = coordsSqr[:, None] + coordsSqr[None, :] - 2*coords.dot(coords.T)\n",
    "M[M < 0] = 0\n",
    "M = np.sqrt(M)\n",
    "\n",
    "A = np.random.rand(n,n)\n",
    "B = np.random.rand(n,n)\n",
    "\n",
    "wass = ot.emd2(A.flatten(), B.flatten(), M, 1.0)\n",
    "print(wass)\n",
    "\n",
    "wass = ot.emd2(A.flatten(), A.flatten(), M, 1.0)\n",
    "print(wass)"
   ]
  },
  {
   "cell_type": "markdown",
   "metadata": {},
   "source": [
    "# GROMOV-WASSERSTIN"
   ]
  },
  {
   "cell_type": "code",
   "execution_count": 112,
   "metadata": {},
   "outputs": [
    {
     "name": "stdout",
     "output_type": "stream",
     "text": [
      "0.09879834613051615\n",
      "0.09879834613051632\n",
      "5.945480213377253\n",
      "2.0816681711721685e-17\n"
     ]
    }
   ],
   "source": [
    "# Way more metricy\n",
    "\n",
    "n = 17\n",
    "\n",
    "A = np.random.rand(n,n)\n",
    "B = np.random.rand(n,n)\n",
    "\n",
    "wass = ot.gromov_wasserstein2(A, B)\n",
    "print(wass)\n",
    "\n",
    "wass = ot.gromov_wasserstein2(B, A)\n",
    "print(wass)\n",
    "\n",
    "wass = ot.gromov_wasserstein2(A*5, B)\n",
    "print(wass)\n",
    "\n",
    "wass = ot.gromov_wasserstein2(A, A)\n",
    "print(wass)"
   ]
  }
 ],
 "metadata": {
  "kernelspec": {
   "display_name": "venv",
   "language": "python",
   "name": "python3"
  },
  "language_info": {
   "codemirror_mode": {
    "name": "ipython",
    "version": 3
   },
   "file_extension": ".py",
   "mimetype": "text/x-python",
   "name": "python",
   "nbconvert_exporter": "python",
   "pygments_lexer": "ipython3",
   "version": "3.8.17"
  },
  "orig_nbformat": 4
 },
 "nbformat": 4,
 "nbformat_minor": 2
}
