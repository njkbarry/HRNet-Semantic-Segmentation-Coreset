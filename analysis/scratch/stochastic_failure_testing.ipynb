{
 "cells": [
  {
   "cell_type": "code",
   "execution_count": 34,
   "metadata": {},
   "outputs": [],
   "source": [
    "import submodlib\n",
    "import numpy as np"
   ]
  },
  {
   "cell_type": "code",
   "execution_count": 35,
   "metadata": {},
   "outputs": [],
   "source": [
    "n = 400\n",
    "data_sijs = np.random.rand(n,n)\n",
    "budget=15"
   ]
  },
  {
   "cell_type": "code",
   "execution_count": 36,
   "metadata": {},
   "outputs": [],
   "source": [
    "obj = submodlib.GraphCutFunction(\n",
    "            n=n,\n",
    "            mode=\"dense\",\n",
    "            lambdaVal=1,\n",
    "            separate_rep=False,\n",
    "            ggsijs=data_sijs,\n",
    "        )\n",
    "\n",
    "# obj = submodlib.DisparityMinFunction(n=n, mode=\"dense\", sijs=data_sijs)\n"
   ]
  },
  {
   "cell_type": "code",
   "execution_count": 37,
   "metadata": {},
   "outputs": [
    {
     "name": "stdout",
     "output_type": "stream",
     "text": [
      "61.40226914650789\n"
     ]
    }
   ],
   "source": [
    "epsilon = 0.1\n",
    "M = (n / budget) * np.log(1/epsilon)\n",
    "print(M)"
   ]
  },
  {
   "cell_type": "code",
   "execution_count": 32,
   "metadata": {},
   "outputs": [
    {
     "name": "stderr",
     "output_type": "stream",
     "text": [
      "[||||||||||||||||||||]100% [Iteration 15 of 15]"
     ]
    },
    {
     "data": {
      "text/plain": [
       "[(27, 211.1601872073952),\n",
       " (43, 208.74111908551276),\n",
       " (393, 208.08894096454605),\n",
       " (282, 212.1552799101919),\n",
       " (87, 205.83779370971024),\n",
       " (259, 204.235587307252),\n",
       " (351, 209.7712929728441),\n",
       " (225, 203.79403521848144),\n",
       " (383, 205.86564206704497),\n",
       " (144, 198.77991274325177),\n",
       " (286, 202.30234141170513),\n",
       " (230, 204.01358585315756),\n",
       " (359, 196.4715365213342),\n",
       " (337, 193.12654183851555),\n",
       " (185, 195.46372187905945)]"
      ]
     },
     "execution_count": 32,
     "metadata": {},
     "output_type": "execute_result"
    }
   ],
   "source": [
    "obj.maximize(\n",
    "            budget=budget,\n",
    "            optimizer=\"LazierThanLazyGreedy\",\n",
    "            epsilon=epsilon,\n",
    "            stopIfZeroGain=False,\n",
    "            stopIfNegativeGain=False,\n",
    "            verbose=False,\n",
    "        )"
   ]
  },
  {
   "cell_type": "code",
   "execution_count": 27,
   "metadata": {},
   "outputs": [
    {
     "name": "stderr",
     "output_type": "stream",
     "text": [
      "[||||||||||||||||||||]100% [Iteration 15 of 15]"
     ]
    }
   ],
   "source": [
    "set1 = obj.maximize(\n",
    "                    budget=budget,\n",
    "                    optimizer=\"StochasticGreedy\",\n",
    "                    epsilon=epsilon,\n",
    "                    stopIfZeroGain=False,\n",
    "                    stopIfNegativeGain=False,\n",
    "                    verbose=False,\n",
    "                )\n"
   ]
  },
  {
   "cell_type": "code",
   "execution_count": 33,
   "metadata": {},
   "outputs": [
    {
     "name": "stdout",
     "output_type": "stream",
     "text": [
      "True\n"
     ]
    },
    {
     "name": "stderr",
     "output_type": "stream",
     "text": [
      "[||||||||||||||||||||]100% [Iteration 15 of 15]"
     ]
    }
   ],
   "source": [
    "set2 = obj.maximize(\n",
    "                    budget=budget,\n",
    "                    optimizer=\"StochasticGreedy\",\n",
    "                    epsilon=epsilon,\n",
    "                    stopIfZeroGain=False,\n",
    "                    stopIfNegativeGain=False,\n",
    "                    verbose=False,\n",
    "                )\n",
    "\n",
    "print(set1==set2)"
   ]
  },
  {
   "cell_type": "code",
   "execution_count": null,
   "metadata": {},
   "outputs": [],
   "source": []
  }
 ],
 "metadata": {
  "kernelspec": {
   "display_name": "venv",
   "language": "python",
   "name": "python3"
  },
  "language_info": {
   "codemirror_mode": {
    "name": "ipython",
    "version": 3
   },
   "file_extension": ".py",
   "mimetype": "text/x-python",
   "name": "python",
   "nbconvert_exporter": "python",
   "pygments_lexer": "ipython3",
   "version": "3.8.17"
  },
  "orig_nbformat": 4
 },
 "nbformat": 4,
 "nbformat_minor": 2
}
