{
 "cells": [
  {
   "cell_type": "code",
   "execution_count": 1,
   "metadata": {},
   "outputs": [
    {
     "name": "stderr",
     "output_type": "stream",
     "text": [
      "/home/nickbarry/Documents/MsC-DS/Data_Science_Research_Project/Coresets/Repositories/HRNet-Semantic-Segmentation-Coreset/venv/lib/python3.8/site-packages/tqdm/auto.py:21: TqdmWarning: IProgress not found. Please update jupyter and ipywidgets. See https://ipywidgets.readthedocs.io/en/stable/user_install.html\n",
      "  from .autonotebook import tqdm as notebook_tqdm\n"
     ]
    }
   ],
   "source": [
    "import pickle\n",
    "import os\n",
    "import sys\n",
    "import random\n",
    "sys.path.insert(0, '/home/nickbarry/Documents/MsC-DS/Data_Science_Research_Project/Coresets/Repositories/HRNet-Semantic-Segmentation-Coreset')\n",
    "sys.path.insert(0, '/home/nickbarry/Documents/MsC-DS/Data_Science_Research_Project/Coresets/Repositories/HRNet-Semantic-Segmentation-Coreset/lib')\n",
    "from lib.datasets.pascal_ctx import PASCALContext\n",
    "from tqdm import tqdm\n",
    "import seaborn as sns\n",
    "import pandas as pd\n",
    "from collections import OrderedDict\n",
    "import numpy as np\n",
    "from pathlib import Path\n",
    "from scipy.stats import entropy"
   ]
  },
  {
   "cell_type": "code",
   "execution_count": 2,
   "metadata": {},
   "outputs": [
    {
     "data": {
      "text/plain": [
       "'/home/nickbarry/Documents/MsC-DS/Data_Science_Research_Project/Coresets/Repositories/HRNet-Semantic-Segmentation-Coreset/analysis'"
      ]
     },
     "execution_count": 2,
     "metadata": {},
     "output_type": "execute_result"
    }
   ],
   "source": [
    "os.getcwd()"
   ]
  },
  {
   "cell_type": "code",
   "execution_count": 3,
   "metadata": {},
   "outputs": [
    {
     "name": "stdout",
     "output_type": "stream",
     "text": [
      "Stochastic subset file exists: True\n"
     ]
    }
   ],
   "source": [
    "subset_paths = [\n",
    "    '../data/preprocessing/pascal_ctx_ViT_cossim_0.1_gc_0.1_0.5_stochastic_subsets.pkl',\n",
    "    '../data/preprocessing/pascal_ctx_ViT_cossim_0.001_gc_0.1_0.5_stochastic_subsets.pkl',\n",
    "    '../data/preprocessing/pascal_ctx_ViT_cossim_1e-05_gc_0.1_0.5_stochastic_subsets.pkl',\n",
    "]\n",
    "print(f'Stochastic subset file exists: {os.path.exists(subset_paths[0])}')"
   ]
  },
  {
   "cell_type": "code",
   "execution_count": 4,
   "metadata": {},
   "outputs": [],
   "source": [
    "def pickle2dict(file_name, key):\n",
    "    \"\"\"\n",
    "    Load dictionary from pickle file\n",
    "    \"\"\"\n",
    "    with open(file_name, \"rb\") as fIn:\n",
    "        stored_data = pickle.load(fIn)\n",
    "        value = stored_data[key]\n",
    "    return value"
   ]
  },
  {
   "cell_type": "code",
   "execution_count": 5,
   "metadata": {},
   "outputs": [],
   "source": [
    "# if stochastic_subsets[0] == stochastic_subsets[-1]:\n",
    "#     print('subsets appear to all be the same. Yikes!')"
   ]
  },
  {
   "cell_type": "code",
   "execution_count": 6,
   "metadata": {},
   "outputs": [
    {
     "name": "stdout",
     "output_type": "stream",
     "text": [
      "loading annotations into memory...\n",
      "JSON root keys:dict_keys(['info', 'images', 'annos_segmentation', 'annos_occlusion', 'annos_boundary', 'categories', 'parts'])\n",
      "Done (t=3.71s)\n",
      "creating index...\n",
      "index created! (t=4.57s)\n",
      "mask_file: /home/nickbarry/Documents/MsC-DS/Data_Science_Research_Project/Coresets/Repositories/HRNet-Semantic-Segmentation-Coreset/data/pascal_ctx/VOCdevkit/VOC2010/train.pth\n",
      "wait\n",
      "loading annotations into memory...\n",
      "JSON root keys:dict_keys(['info', 'images', 'annos_segmentation', 'annos_occlusion', 'annos_boundary', 'categories', 'parts'])\n",
      "Done (t=4.01s)\n",
      "creating index...\n",
      "index created! (t=4.23s)\n",
      "mask_file: /home/nickbarry/Documents/MsC-DS/Data_Science_Research_Project/Coresets/Repositories/HRNet-Semantic-Segmentation-Coreset/data/pascal_ctx/VOCdevkit/VOC2010/val.pth\n",
      "wait\n"
     ]
    }
   ],
   "source": [
    "trainset = PASCALContext(\n",
    "            root='/home/nickbarry/Documents/MsC-DS/Data_Science_Research_Project/Coresets/Repositories/HRNet-Semantic-Segmentation-Coreset/data/',\n",
    "            list_path='train',\n",
    "            num_samples=None,\n",
    "            num_classes=59,\n",
    "            multi_scale=True,\n",
    "            flip=True,\n",
    "            ignore_label=-1,\n",
    "            base_size=520,\n",
    "            crop_size=(520,520),\n",
    "            downsample_rate=1,\n",
    "            scale_factor=16,\n",
    "        )\n",
    "\n",
    "valset = PASCALContext(\n",
    "            root='/home/nickbarry/Documents/MsC-DS/Data_Science_Research_Project/Coresets/Repositories/HRNet-Semantic-Segmentation-Coreset/data/',\n",
    "            list_path='val',\n",
    "            num_samples=None,\n",
    "            num_classes=59,\n",
    "            multi_scale=True,\n",
    "            flip=True,\n",
    "            ignore_label=-1,\n",
    "            base_size=520,\n",
    "            crop_size=(520,520),\n",
    "            downsample_rate=1,\n",
    "            scale_factor=16,\n",
    "        )\n"
   ]
  },
  {
   "cell_type": "markdown",
   "metadata": {},
   "source": [
    "## Image-Wise Class Distributions"
   ]
  },
  {
   "cell_type": "code",
   "execution_count": 7,
   "metadata": {},
   "outputs": [],
   "source": [
    "trainset_classes = [trainset.get_imagewise_label(file[\"file_name\"]) for file in trainset.files]\n",
    "trainset_class_dist = {x: trainset_classes.count(x) for x in trainset_classes}\n",
    "trainset_class_dist = OrderedDict(sorted(trainset_class_dist.items()))\n",
    "train_df = pd.DataFrame.from_dict(data=trainset_class_dist, orient='index', columns=['trainset'])\n",
    "\n",
    "valset_classes = [valset.get_imagewise_label(file[\"file_name\"]) for file in valset.files]\n",
    "valset_class_dist = {x: valset_classes.count(x) for x in valset_classes}\n",
    "valset_class_dist = OrderedDict(sorted(valset_class_dist.items()))\n",
    "val_df = pd.DataFrame.from_dict(data=valset_class_dist, orient='index', columns=['valset'])"
   ]
  },
  {
   "cell_type": "code",
   "execution_count": 18,
   "metadata": {},
   "outputs": [
    {
     "name": "stderr",
     "output_type": "stream",
     "text": [
      "100%|██████████| 10/10 [05:07<00:00, 30.79s/it]\n",
      "100%|██████████| 10/10 [05:04<00:00, 30.47s/it]\n",
      "100%|██████████| 10/10 [05:05<00:00, 30.50s/it]\n"
     ]
    }
   ],
   "source": [
    "experiment_dfs = []\n",
    "\n",
    "for subset_path in subset_paths:\n",
    "    \n",
    "    subsets = pickle2dict(subset_path, 'stochastic_subsets')\n",
    "    stochastic_subsets = []\n",
    "    for subset in subsets:\n",
    "        stochastic_subsets.append([x[0] for x in subset])\n",
    "\n",
    "    class_distributions = []\n",
    "    subset_dataframes = []\n",
    "    i=0\n",
    "    random_subset = random.sample(stochastic_subsets, 10)\n",
    "    for subset in tqdm(random_subset, total=len(random_subset)):\n",
    "        subset_classes = [trainset.get_imagewise_label(trainset[index][3]) for index in subset]\n",
    "        subset_class_dist = {x: subset_classes.count(x) for x in subset_classes}\n",
    "        subset_class_dist = OrderedDict(sorted(subset_class_dist.items()))\n",
    "        class_distributions.append(subset_class_dist)\n",
    "        subset_df = pd.DataFrame.from_dict(data=subset_class_dist, orient='index', columns=[f'subset_{i}'])\n",
    "        i=i+1\n",
    "        subset_dataframes.append(subset_df)\n",
    "\n",
    "    summary_df = pd.DataFrame({'mean':pd.concat(subset_dataframes, axis=1).mean(axis=1), 'var':pd.concat(subset_dataframes, axis=1).var(axis=1)})\n",
    "\n",
    "    experiment_dfs.append(summary_df)\n",
    "    \n",
    "\n",
    "    "
   ]
  },
  {
   "cell_type": "code",
   "execution_count": 19,
   "metadata": {},
   "outputs": [
    {
     "data": {
      "text/plain": [
       "<ErrorbarContainer object of 3 artists>"
      ]
     },
     "execution_count": 19,
     "metadata": {},
     "output_type": "execute_result"
    },
    {
     "data": {
      "image/png": "[encoded data removed]",
      "text/plain": [
       "<Figure size 640x480 with 1 Axes>"
      ]
     },
     "metadata": {},
     "output_type": "display_data"
    }
   ],
   "source": [
    "i=0\n",
    "plt = sns.barplot(data=experiment_dfs[0], x=experiment_dfs[0].index, y='mean')\n",
    "plt.set_xticklabels(plt.get_xticklabels(),rotation=90)\n",
    "plt.errorbar(x=experiment_dfs[0].index, y=experiment_dfs[0]['mean'],yerr=experiment_dfs[0]['var'])"
   ]
  },
  {
   "cell_type": "code",
   "execution_count": 20,
   "metadata": {},
   "outputs": [],
   "source": [
    "subset_means = pd.concat([experiment_dfs[i]['mean'] for i in range(len(experiment_dfs))], axis=1)\n",
    "subset_means = subset_means.set_axis(['0.1', '0.001', '0.00001'], axis=1)"
   ]
  },
  {
   "cell_type": "code",
   "execution_count": 21,
   "metadata": {},
   "outputs": [],
   "source": [
    "total_df = pd.concat([subset_means, val_df, train_df], axis=1)"
   ]
  },
  {
   "cell_type": "code",
   "execution_count": 22,
   "metadata": {},
   "outputs": [],
   "source": [
    "total_df = total_df / total_df.sum()"
   ]
  },
  {
   "cell_type": "code",
   "execution_count": 26,
   "metadata": {},
   "outputs": [
    {
     "data": {
      "text/plain": [
       "Text(0, 0.5, '')"
      ]
     },
     "execution_count": 26,
     "metadata": {},
     "output_type": "execute_result"
    },
    {
     "data": {
      "image/png": "[encoded data removed]",
      "text/plain": [
       "<Figure size 640x480 with 1 Axes>"
      ]
     },
     "metadata": {},
     "output_type": "display_data"
    }
   ],
   "source": [
    "plot_df = total_df.melt(var_name='set', value_name='count', ignore_index=False)\n",
    "plt = sns.barplot(data=plot_df, x=plot_df.index, y='count', hue='set')\n",
    "plt.set_xticklabels(plt.get_xticklabels(),rotation=90)\n",
    "plt.set_title('Mean image-wise class distribution over data subsets, n=10')\n",
    "plt.set_ylabel('')"
   ]
  },
  {
   "cell_type": "code",
   "execution_count": 28,
   "metadata": {},
   "outputs": [],
   "source": [
    "subset_vars = pd.concat([experiment_dfs[i]['var'] for i in range(len(experiment_dfs))], axis=1)\n",
    "subset_vars = subset_vars.set_axis(['0.1', '0.001', '0.00001'], axis=1)"
   ]
  },
  {
   "cell_type": "code",
   "execution_count": 29,
   "metadata": {},
   "outputs": [
    {
     "data": {
      "text/plain": [
       "0.1        37.593333\n",
       "0.001      20.705556\n",
       "0.00001    15.190000\n",
       "dtype: float64"
      ]
     },
     "execution_count": 29,
     "metadata": {},
     "output_type": "execute_result"
    }
   ],
   "source": [
    "subset_vars.mean()"
   ]
  },
  {
   "cell_type": "markdown",
   "metadata": {},
   "source": [
    "## Pixel-wise class distributions"
   ]
  },
  {
   "cell_type": "code",
   "execution_count": 18,
   "metadata": {},
   "outputs": [],
   "source": [
    "def get_pixel_dist(dataset):\n",
    "    uniques = []\n",
    "    counts = []\n",
    "    for batch in enumerate(dataset):\n",
    "        index, (image, labels, shape, name) = batch\n",
    "        unique, count = np.unique(labels, return_counts=True)\n",
    "        uniques.append(unique)\n",
    "        counts.append(count)\n",
    "    pixel_df = pd.DataFrame({'class': np.concatenate(uniques), 'proportion': np.concatenate(counts)})\n",
    "    pixel_df = pixel_df.groupby('class').sum()\n",
    "    pixel_df = pixel_df.drop(index=-1)\n",
    "    pixel_df = pixel_df / pixel_df.sum()\n",
    "    return pixel_df\n",
    "\n",
    "train_pixel_df = get_pixel_dist(trainset)\n",
    "val_pixel_df = get_pixel_dist(valset)\n",
    "    "
   ]
  },
  {
   "cell_type": "code",
   "execution_count": 75,
   "metadata": {},
   "outputs": [],
   "source": [
    "train_pixel_df = train_pixel_df.set_axis(['trainset'], axis=1)\n",
    "val_pixel_df = val_pixel_df.set_axis(['valset'], axis=1)"
   ]
  },
  {
   "cell_type": "code",
   "execution_count": 76,
   "metadata": {},
   "outputs": [
    {
     "name": "stderr",
     "output_type": "stream",
     "text": [
      "100%|██████████| 10/10 [06:00<00:00, 36.09s/it]\n",
      "100%|██████████| 10/10 [06:16<00:00, 37.64s/it]\n",
      "100%|██████████| 10/10 [06:13<00:00, 37.33s/it]\n"
     ]
    }
   ],
   "source": [
    "experiment_dfs = []\n",
    "\n",
    "for subset_path in subset_paths:\n",
    "    \n",
    "    subsets = pickle2dict(subset_path, 'stochastic_subsets')\n",
    "    stochastic_subsets = []\n",
    "    for subset in subsets:\n",
    "        stochastic_subsets.append([x[0] for x in subset])\n",
    "\n",
    "    class_distributions = []\n",
    "    subset_dataframes = []\n",
    "    i=0\n",
    "    random_subset = random.sample(stochastic_subsets, 10)\n",
    "    for subset in tqdm(random_subset, total=len(random_subset)):\n",
    "        uniques = []\n",
    "        counts = []\n",
    "        for index in subset:\n",
    "            image, labels, shape, name = trainset.__getitem__(index)\n",
    "            unique, count = np.unique(labels, return_counts=True)\n",
    "            uniques.append(unique)\n",
    "            counts.append(count)\n",
    "\n",
    "        pixel_df = pd.DataFrame({'class': np.concatenate(uniques), 'count': np.concatenate(counts)})\n",
    "        pixel_df = pixel_df.groupby('class').sum()\n",
    "        pixel_df = pixel_df.drop(index=-1)\n",
    "        pixel_df = pixel_df / pixel_df.sum()\n",
    "            \n",
    "        subset_dataframes.append(pixel_df)\n",
    "\n",
    "    summary_df = pd.DataFrame({'mean':pd.concat(subset_dataframes, axis=1).mean(axis=1), 'var':pd.concat(subset_dataframes, axis=1).var(axis=1)})\n",
    "\n",
    "    experiment_dfs.append(summary_df)"
   ]
  },
  {
   "cell_type": "code",
   "execution_count": 77,
   "metadata": {},
   "outputs": [],
   "source": [
    "subset_means = pd.concat([experiment_dfs[i]['mean'] for i in range(len(experiment_dfs))], axis=1)\n",
    "subset_means = subset_means.set_axis(['0.1', '0.001', '0.00001'], axis=1)\n",
    "\n",
    "total_df = pd.concat([subset_means, val_pixel_df, train_pixel_df], axis=1)"
   ]
  },
  {
   "cell_type": "code",
   "execution_count": 78,
   "metadata": {},
   "outputs": [
    {
     "data": {
      "text/plain": [
       "Text(0, 0.5, '')"
      ]
     },
     "execution_count": 78,
     "metadata": {},
     "output_type": "execute_result"
    },
    {
     "data": {
      "image/png": "[encoded data removed]",
      "text/plain": [
       "<Figure size 640x480 with 1 Axes>"
      ]
     },
     "metadata": {},
     "output_type": "display_data"
    }
   ],
   "source": [
    "plot_df = total_df.melt(var_name='set', value_name='count', ignore_index=False)\n",
    "plt = sns.barplot(data=plot_df, x=plot_df.index, y='count', hue='set')\n",
    "plt.set_xticklabels(plt.get_xticklabels(),rotation=90)\n",
    "plt.set_title('Mean pixel-wise class distribution over data subsets, n=10')\n",
    "plt.set_ylabel('')"
   ]
  },
  {
   "cell_type": "code",
   "execution_count": 79,
   "metadata": {},
   "outputs": [],
   "source": [
    "subset_vars = pd.concat([experiment_dfs[i]['var'] for i in range(len(experiment_dfs))], axis=1)\n",
    "subset_vars = subset_vars.set_axis(['0.1', '0.001', '0.00001'], axis=1)"
   ]
  },
  {
   "cell_type": "code",
   "execution_count": 80,
   "metadata": {},
   "outputs": [
    {
     "data": {
      "text/plain": [
       "0.1        1.291694e-06\n",
       "0.001      1.038278e-06\n",
       "0.00001    8.974925e-07\n",
       "dtype: float64"
      ]
     },
     "execution_count": 80,
     "metadata": {},
     "output_type": "execute_result"
    }
   ],
   "source": [
    "subset_vars.mean()"
   ]
  },
  {
   "cell_type": "code",
   "execution_count": 84,
   "metadata": {},
   "outputs": [
    {
     "name": "stdout",
     "output_type": "stream",
     "text": [
      "KL divergence between training set and the 0.1 set is: 0.06927961181480845\n",
      "KL divergence between training set and the 0.1 set is: 0.08536579530986546\n",
      "KL divergence between training set and the 0.1 set is: 0.21686007339063892\n"
     ]
    }
   ],
   "source": [
    "print(f'KL divergence between training set and the 0.1 set is: {entropy(pixel_df[\"count\"], subset_vars[\"0.1\"])}')\n",
    "print(f'KL divergence between training set and the 0.1 set is: {entropy(pixel_df[\"count\"], subset_vars[\"0.001\"])}')\n",
    "print(f'KL divergence between training set and the 0.1 set is: {entropy(pixel_df[\"count\"], subset_vars[\"0.00001\"])}')"
   ]
  },
  {
   "cell_type": "markdown",
   "metadata": {},
   "source": [
    "### Correlation of class distribution with validation mIoU"
   ]
  },
  {
   "cell_type": "code",
   "execution_count": 16,
   "metadata": {},
   "outputs": [],
   "source": [
    "approximate_validation_mIoU = [0.77, 0.13, 0.08, 0.24, 0.02, 0.7, 0.75, 0.57, 0.35, 0.7, 0.5, 0.8, 0.27, 0.78, 0.79, 0.46, 0.35, 0.11, 0.21, 0.55, 0.29, 0.35, 0.75, 0.11, 0.3, 0.58, 0.14, 0.22, 0.73, 0.44, 0.65, 0.61, 0.37, 0.73, 0.42, 0.15, 0.8, 0.15, 0.34, 0.39, 0.41, 0.25, 0.61, 0.19, 0.13, 0.26, 0.91, 0.44, 0.32, 0.47, 0.58, 0.75, 0.73, 0.2, 0.7, 0.58, 0.7, 0.29, 0.13]"
   ]
  },
  {
   "cell_type": "code",
   "execution_count": 17,
   "metadata": {},
   "outputs": [],
   "source": [
    "train_pixel_df = train_pixel_df.set_axis(['class proportions'], axis=1)\n",
    "train_pixel_df['mIoU'] = approximate_validation_mIoU"
   ]
  },
  {
   "cell_type": "code",
   "execution_count": 18,
   "metadata": {},
   "outputs": [
    {
     "data": {
      "text/html": [
       "<div>\n",
       "<style scoped>\n",
       "    .dataframe tbody tr th:only-of-type {\n",
       "        vertical-align: middle;\n",
       "    }\n",
       "\n",
       "    .dataframe tbody tr th {\n",
       "        vertical-align: top;\n",
       "    }\n",
       "\n",
       "    .dataframe thead th {\n",
       "        text-align: right;\n",
       "    }\n",
       "</style>\n",
       "<table border=\"1\" class=\"dataframe\">\n",
       "  <thead>\n",
       "    <tr style=\"text-align: right;\">\n",
       "      <th></th>\n",
       "      <th>class proportions</th>\n",
       "      <th>mIoU</th>\n",
       "    </tr>\n",
       "  </thead>\n",
       "  <tbody>\n",
       "    <tr>\n",
       "      <th>class proportions</th>\n",
       "      <td>1.000000</td>\n",
       "      <td>0.585703</td>\n",
       "    </tr>\n",
       "    <tr>\n",
       "      <th>mIoU</th>\n",
       "      <td>0.585703</td>\n",
       "      <td>1.000000</td>\n",
       "    </tr>\n",
       "  </tbody>\n",
       "</table>\n",
       "</div>"
      ],
      "text/plain": [
       "                   class proportions      mIoU\n",
       "class proportions           1.000000  0.585703\n",
       "mIoU                        0.585703  1.000000"
      ]
     },
     "execution_count": 18,
     "metadata": {},
     "output_type": "execute_result"
    }
   ],
   "source": [
    "train_pixel_df.corr()"
   ]
  },
  {
   "cell_type": "code",
   "execution_count": 26,
   "metadata": {},
   "outputs": [
    {
     "data": {
      "text/plain": [
       "Text(0.5, 1.0, 'Validation mIoU vs Class proportions')"
      ]
     },
     "execution_count": 26,
     "metadata": {},
     "output_type": "execute_result"
    },
    {
     "data": {
      "image/png": "[encoded data removed]",
      "text/plain": [
       "<Figure size 640x480 with 1 Axes>"
      ]
     },
     "metadata": {},
     "output_type": "display_data"
    }
   ],
   "source": [
    "plt = sns.scatterplot(data=train_pixel_df, x='class proportions', y='mIoU')\n",
    "plt.set_title('Validation mIoU vs Class proportions')"
   ]
  },
  {
   "cell_type": "code",
   "execution_count": null,
   "metadata": {},
   "outputs": [],
   "source": []
  },
  {
   "cell_type": "markdown",
   "metadata": {},
   "source": [
    "### Epoch Subset Statistics"
   ]
  },
  {
   "cell_type": "code",
   "execution_count": 60,
   "metadata": {},
   "outputs": [],
   "source": [
    "import tensorboard as tb\n",
    "from tensorboard.backend.event_processing.event_accumulator import EventAccumulator\n",
    "from tensorboard.util.tensor_util import make_ndarray\n",
    "import re\n",
    "\n",
    "tb_dir = '/home/nickbarry/Documents/MsC-DS/Data_Science_Research_Project/Coresets/Repositories/HRNet-Semantic-Segmentation-Coreset/log/pixel_map_weighted_random_sampling_experiment/pascal_ctx/seg_hrnet/'\n",
    "tb_paths = []\n",
    "for root, dirs, files in os.walk(tb_dir):\n",
    "    for file in files:\n",
    "        if file.endswith(\".aa-desktop\"):\n",
    "            tb_paths.append(os.path.join(root, file))"
   ]
  },
  {
   "cell_type": "code",
   "execution_count": 61,
   "metadata": {},
   "outputs": [
    {
     "data": {
      "text/plain": [
       "['/home/nickbarry/Documents/MsC-DS/Data_Science_Research_Project/Coresets/Repositories/HRNet-Semantic-Segmentation-Coreset/log/pixel_map_weighted_random_sampling_experiment/pascal_ctx/seg_hrnet/oracle_05_a_2023-09-08-19-31/events.out.tfevents.1694165498.aa-desktop',\n",
       " '/home/nickbarry/Documents/MsC-DS/Data_Science_Research_Project/Coresets/Repositories/HRNet-Semantic-Segmentation-Coreset/log/pixel_map_weighted_random_sampling_experiment/pascal_ctx/seg_hrnet/invtrainprop_05_a_2023-09-09-21-03/events.out.tfevents.1694257385.aa-desktop',\n",
       " '/home/nickbarry/Documents/MsC-DS/Data_Science_Research_Project/Coresets/Repositories/HRNet-Semantic-Segmentation-Coreset/log/pixel_map_weighted_random_sampling_experiment/pascal_ctx/seg_hrnet/oracle_05_b_2023-09-09-04-02/events.out.tfevents.1694196135.aa-desktop',\n",
       " '/home/nickbarry/Documents/MsC-DS/Data_Science_Research_Project/Coresets/Repositories/HRNet-Semantic-Segmentation-Coreset/log/pixel_map_weighted_random_sampling_experiment/pascal_ctx/seg_hrnet/oracle_05_b_2023-09-09-12-32/events.out.tfevents.1694226757.aa-desktop']"
      ]
     },
     "execution_count": 61,
     "metadata": {},
     "output_type": "execute_result"
    }
   ],
   "source": [
    "tb_paths"
   ]
  },
  {
   "cell_type": "code",
   "execution_count": 62,
   "metadata": {},
   "outputs": [
    {
     "name": "stdout",
     "output_type": "stream",
     "text": [
      "['/home/nickbarry/Documents/MsC-DS/Data_Science_Research_Project/Coresets/Repositories/HRNet-Semantic-Segmentation-Coreset/log/pixel_map_weighted_random_sampling_experiment/pascal_ctx/seg_hrnet/oracle_05_a_2023-09-08-19-31/events.out.tfevents.1694165498.aa-desktop', '/home/nickbarry/Documents/MsC-DS/Data_Science_Research_Project/Coresets/Repositories/HRNet-Semantic-Segmentation-Coreset/log/pixel_map_weighted_random_sampling_experiment/pascal_ctx/seg_hrnet/oracle_05_b_2023-09-09-04-02/events.out.tfevents.1694196135.aa-desktop', '/home/nickbarry/Documents/MsC-DS/Data_Science_Research_Project/Coresets/Repositories/HRNet-Semantic-Segmentation-Coreset/log/pixel_map_weighted_random_sampling_experiment/pascal_ctx/seg_hrnet/oracle_05_b_2023-09-09-12-32/events.out.tfevents.1694226757.aa-desktop']\n"
     ]
    }
   ],
   "source": [
    "tb_paths.pop(1)\n",
    "print(tb_paths)"
   ]
  },
  {
   "cell_type": "code",
   "execution_count": 63,
   "metadata": {},
   "outputs": [
    {
     "name": "stderr",
     "output_type": "stream",
     "text": [
      "100%|██████████| 10/10 [05:49<00:00, 34.94s/it]\n",
      "100%|██████████| 10/10 [05:49<00:00, 34.90s/it]\n",
      "100%|██████████| 10/10 [05:48<00:00, 34.87s/it]\n",
      "100%|██████████| 3/3 [17:27<00:00, 349.03s/it]\n"
     ]
    }
   ],
   "source": [
    "pixel_dfs = []\n",
    "for tb_path in tqdm(tb_paths, total = len(tb_paths)):\n",
    "    for epoch in tqdm(range(len(event_acc.Tensors(\"subset_epoch_indexes/text_summary\")))):\n",
    "        event_acc = EventAccumulator(tb_path)\n",
    "        event_acc.Reload()\n",
    "        subset_indexes_str = make_ndarray(event_acc.Tensors(\"subset_epoch_indexes/text_summary\")[epoch].tensor_proto)[0].decode()\n",
    "        subset_indexes_raw = subset_indexes_str.split(',')\n",
    "        subset_indexes_names = [re.subn('[^A-Za-z0-9._]','', s)[0] for s in subset_indexes_raw]\n",
    "\n",
    "        subset_indexes = [trainset.get_img_index(name) for name in subset_indexes_names]\n",
    "\n",
    "        uniques = []\n",
    "        counts = []\n",
    "\n",
    "        for i in range(len(subset_indexes)):\n",
    "            index = subset_indexes[i]\n",
    "            index_name = subset_indexes_names[i]\n",
    "            image, labels, shape, name = trainset.__getitem__(index)\n",
    "            assert(name==index_name)\n",
    "            unique, count = np.unique(labels, return_counts=True)\n",
    "            uniques.append(unique)\n",
    "            counts.append(count)\n",
    "\n",
    "        pixel_df = pd.DataFrame({'class': np.concatenate(uniques), 'proportion': np.concatenate(counts)})\n",
    "        pixel_df = pixel_df.groupby('class').sum()\n",
    "        pixel_df = pixel_df.drop(index=-1)\n",
    "        pixel_df = pixel_df / pixel_df.sum()\n",
    "        pixel_dfs.append(pixel_df)\n",
    "\n",
    "    "
   ]
  },
  {
   "cell_type": "code",
   "execution_count": 64,
   "metadata": {},
   "outputs": [],
   "source": [
    "summary_df = pd.DataFrame({'mean':pd.concat(pixel_dfs, axis=1).mean(axis=1), 'var':pd.concat(pixel_dfs, axis=1).var(axis=1)})"
   ]
  },
  {
   "cell_type": "code",
   "execution_count": 81,
   "metadata": {},
   "outputs": [
    {
     "data": {
      "text/html": [
       "<div>\n",
       "<style scoped>\n",
       "    .dataframe tbody tr th:only-of-type {\n",
       "        vertical-align: middle;\n",
       "    }\n",
       "\n",
       "    .dataframe tbody tr th {\n",
       "        vertical-align: top;\n",
       "    }\n",
       "\n",
       "    .dataframe thead th {\n",
       "        text-align: right;\n",
       "    }\n",
       "</style>\n",
       "<table border=\"1\" class=\"dataframe\">\n",
       "  <thead>\n",
       "    <tr style=\"text-align: right;\">\n",
       "      <th></th>\n",
       "      <th>Weighted Random Subsets</th>\n",
       "      <th>Training Set</th>\n",
       "    </tr>\n",
       "    <tr>\n",
       "      <th>class</th>\n",
       "      <th></th>\n",
       "      <th></th>\n",
       "    </tr>\n",
       "  </thead>\n",
       "  <tbody>\n",
       "    <tr>\n",
       "      <th>0</th>\n",
       "      <td>0.011547</td>\n",
       "      <td>0.011119</td>\n",
       "    </tr>\n",
       "    <tr>\n",
       "      <th>1</th>\n",
       "      <td>0.000965</td>\n",
       "      <td>0.001009</td>\n",
       "    </tr>\n",
       "    <tr>\n",
       "      <th>2</th>\n",
       "      <td>0.003057</td>\n",
       "      <td>0.002947</td>\n",
       "    </tr>\n",
       "    <tr>\n",
       "      <th>3</th>\n",
       "      <td>0.007042</td>\n",
       "      <td>0.007078</td>\n",
       "    </tr>\n",
       "    <tr>\n",
       "      <th>4</th>\n",
       "      <td>0.000580</td>\n",
       "      <td>0.000592</td>\n",
       "    </tr>\n",
       "    <tr>\n",
       "      <th>5</th>\n",
       "      <td>0.010851</td>\n",
       "      <td>0.010650</td>\n",
       "    </tr>\n",
       "    <tr>\n",
       "      <th>6</th>\n",
       "      <td>0.013856</td>\n",
       "      <td>0.013843</td>\n",
       "    </tr>\n",
       "    <tr>\n",
       "      <th>7</th>\n",
       "      <td>0.009892</td>\n",
       "      <td>0.009987</td>\n",
       "    </tr>\n",
       "    <tr>\n",
       "      <th>8</th>\n",
       "      <td>0.001910</td>\n",
       "      <td>0.001743</td>\n",
       "    </tr>\n",
       "    <tr>\n",
       "      <th>9</th>\n",
       "      <td>0.006269</td>\n",
       "      <td>0.006073</td>\n",
       "    </tr>\n",
       "    <tr>\n",
       "      <th>10</th>\n",
       "      <td>0.065684</td>\n",
       "      <td>0.064759</td>\n",
       "    </tr>\n",
       "    <tr>\n",
       "      <th>11</th>\n",
       "      <td>0.017356</td>\n",
       "      <td>0.015899</td>\n",
       "    </tr>\n",
       "    <tr>\n",
       "      <th>12</th>\n",
       "      <td>0.006971</td>\n",
       "      <td>0.007418</td>\n",
       "    </tr>\n",
       "    <tr>\n",
       "      <th>13</th>\n",
       "      <td>0.029139</td>\n",
       "      <td>0.030323</td>\n",
       "    </tr>\n",
       "    <tr>\n",
       "      <th>14</th>\n",
       "      <td>0.047223</td>\n",
       "      <td>0.050020</td>\n",
       "    </tr>\n",
       "    <tr>\n",
       "      <th>15</th>\n",
       "      <td>0.004897</td>\n",
       "      <td>0.004988</td>\n",
       "    </tr>\n",
       "    <tr>\n",
       "      <th>16</th>\n",
       "      <td>0.016766</td>\n",
       "      <td>0.016682</td>\n",
       "    </tr>\n",
       "    <tr>\n",
       "      <th>17</th>\n",
       "      <td>0.007524</td>\n",
       "      <td>0.007688</td>\n",
       "    </tr>\n",
       "    <tr>\n",
       "      <th>18</th>\n",
       "      <td>0.000919</td>\n",
       "      <td>0.000944</td>\n",
       "    </tr>\n",
       "    <tr>\n",
       "      <th>19</th>\n",
       "      <td>0.007880</td>\n",
       "      <td>0.007656</td>\n",
       "    </tr>\n",
       "    <tr>\n",
       "      <th>20</th>\n",
       "      <td>0.001114</td>\n",
       "      <td>0.001041</td>\n",
       "    </tr>\n",
       "    <tr>\n",
       "      <th>21</th>\n",
       "      <td>0.004532</td>\n",
       "      <td>0.004284</td>\n",
       "    </tr>\n",
       "    <tr>\n",
       "      <th>22</th>\n",
       "      <td>0.041929</td>\n",
       "      <td>0.041968</td>\n",
       "    </tr>\n",
       "    <tr>\n",
       "      <th>23</th>\n",
       "      <td>0.005000</td>\n",
       "      <td>0.004659</td>\n",
       "    </tr>\n",
       "    <tr>\n",
       "      <th>24</th>\n",
       "      <td>0.011572</td>\n",
       "      <td>0.011235</td>\n",
       "    </tr>\n",
       "    <tr>\n",
       "      <th>25</th>\n",
       "      <td>0.027437</td>\n",
       "      <td>0.027739</td>\n",
       "    </tr>\n",
       "    <tr>\n",
       "      <th>26</th>\n",
       "      <td>0.001664</td>\n",
       "      <td>0.001913</td>\n",
       "    </tr>\n",
       "    <tr>\n",
       "      <th>27</th>\n",
       "      <td>0.001124</td>\n",
       "      <td>0.001069</td>\n",
       "    </tr>\n",
       "    <tr>\n",
       "      <th>28</th>\n",
       "      <td>0.064117</td>\n",
       "      <td>0.064229</td>\n",
       "    </tr>\n",
       "    <tr>\n",
       "      <th>29</th>\n",
       "      <td>0.060360</td>\n",
       "      <td>0.060172</td>\n",
       "    </tr>\n",
       "    <tr>\n",
       "      <th>30</th>\n",
       "      <td>0.012863</td>\n",
       "      <td>0.014337</td>\n",
       "    </tr>\n",
       "    <tr>\n",
       "      <th>31</th>\n",
       "      <td>0.000989</td>\n",
       "      <td>0.001059</td>\n",
       "    </tr>\n",
       "    <tr>\n",
       "      <th>32</th>\n",
       "      <td>0.001106</td>\n",
       "      <td>0.001151</td>\n",
       "    </tr>\n",
       "    <tr>\n",
       "      <th>33</th>\n",
       "      <td>0.015777</td>\n",
       "      <td>0.015382</td>\n",
       "    </tr>\n",
       "    <tr>\n",
       "      <th>34</th>\n",
       "      <td>0.010452</td>\n",
       "      <td>0.010774</td>\n",
       "    </tr>\n",
       "    <tr>\n",
       "      <th>35</th>\n",
       "      <td>0.000069</td>\n",
       "      <td>0.000096</td>\n",
       "    </tr>\n",
       "    <tr>\n",
       "      <th>36</th>\n",
       "      <td>0.095393</td>\n",
       "      <td>0.094963</td>\n",
       "    </tr>\n",
       "    <tr>\n",
       "      <th>37</th>\n",
       "      <td>0.000957</td>\n",
       "      <td>0.000903</td>\n",
       "    </tr>\n",
       "    <tr>\n",
       "      <th>38</th>\n",
       "      <td>0.002368</td>\n",
       "      <td>0.002507</td>\n",
       "    </tr>\n",
       "    <tr>\n",
       "      <th>39</th>\n",
       "      <td>0.007370</td>\n",
       "      <td>0.007256</td>\n",
       "    </tr>\n",
       "    <tr>\n",
       "      <th>40</th>\n",
       "      <td>0.024229</td>\n",
       "      <td>0.024600</td>\n",
       "    </tr>\n",
       "    <tr>\n",
       "      <th>41</th>\n",
       "      <td>0.004112</td>\n",
       "      <td>0.004400</td>\n",
       "    </tr>\n",
       "    <tr>\n",
       "      <th>42</th>\n",
       "      <td>0.009148</td>\n",
       "      <td>0.008844</td>\n",
       "    </tr>\n",
       "    <tr>\n",
       "      <th>43</th>\n",
       "      <td>0.003983</td>\n",
       "      <td>0.003917</td>\n",
       "    </tr>\n",
       "    <tr>\n",
       "      <th>44</th>\n",
       "      <td>0.003673</td>\n",
       "      <td>0.004062</td>\n",
       "    </tr>\n",
       "    <tr>\n",
       "      <th>45</th>\n",
       "      <td>0.001334</td>\n",
       "      <td>0.001423</td>\n",
       "    </tr>\n",
       "    <tr>\n",
       "      <th>46</th>\n",
       "      <td>0.088408</td>\n",
       "      <td>0.085143</td>\n",
       "    </tr>\n",
       "    <tr>\n",
       "      <th>47</th>\n",
       "      <td>0.004902</td>\n",
       "      <td>0.005141</td>\n",
       "    </tr>\n",
       "    <tr>\n",
       "      <th>48</th>\n",
       "      <td>0.019635</td>\n",
       "      <td>0.019652</td>\n",
       "    </tr>\n",
       "    <tr>\n",
       "      <th>49</th>\n",
       "      <td>0.010228</td>\n",
       "      <td>0.009976</td>\n",
       "    </tr>\n",
       "    <tr>\n",
       "      <th>50</th>\n",
       "      <td>0.003154</td>\n",
       "      <td>0.003201</td>\n",
       "    </tr>\n",
       "    <tr>\n",
       "      <th>51</th>\n",
       "      <td>0.017753</td>\n",
       "      <td>0.017209</td>\n",
       "    </tr>\n",
       "    <tr>\n",
       "      <th>52</th>\n",
       "      <td>0.057813</td>\n",
       "      <td>0.058537</td>\n",
       "    </tr>\n",
       "    <tr>\n",
       "      <th>53</th>\n",
       "      <td>0.001315</td>\n",
       "      <td>0.001123</td>\n",
       "    </tr>\n",
       "    <tr>\n",
       "      <th>54</th>\n",
       "      <td>0.009860</td>\n",
       "      <td>0.010256</td>\n",
       "    </tr>\n",
       "    <tr>\n",
       "      <th>55</th>\n",
       "      <td>0.060357</td>\n",
       "      <td>0.059694</td>\n",
       "    </tr>\n",
       "    <tr>\n",
       "      <th>56</th>\n",
       "      <td>0.031186</td>\n",
       "      <td>0.031942</td>\n",
       "    </tr>\n",
       "    <tr>\n",
       "      <th>57</th>\n",
       "      <td>0.008448</td>\n",
       "      <td>0.008546</td>\n",
       "    </tr>\n",
       "    <tr>\n",
       "      <th>58</th>\n",
       "      <td>0.003945</td>\n",
       "      <td>0.004181</td>\n",
       "    </tr>\n",
       "  </tbody>\n",
       "</table>\n",
       "</div>"
      ],
      "text/plain": [
       "       Weighted Random Subsets  Training Set\n",
       "class                                       \n",
       "0                     0.011547      0.011119\n",
       "1                     0.000965      0.001009\n",
       "2                     0.003057      0.002947\n",
       "3                     0.007042      0.007078\n",
       "4                     0.000580      0.000592\n",
       "5                     0.010851      0.010650\n",
       "6                     0.013856      0.013843\n",
       "7                     0.009892      0.009987\n",
       "8                     0.001910      0.001743\n",
       "9                     0.006269      0.006073\n",
       "10                    0.065684      0.064759\n",
       "11                    0.017356      0.015899\n",
       "12                    0.006971      0.007418\n",
       "13                    0.029139      0.030323\n",
       "14                    0.047223      0.050020\n",
       "15                    0.004897      0.004988\n",
       "16                    0.016766      0.016682\n",
       "17                    0.007524      0.007688\n",
       "18                    0.000919      0.000944\n",
       "19                    0.007880      0.007656\n",
       "20                    0.001114      0.001041\n",
       "21                    0.004532      0.004284\n",
       "22                    0.041929      0.041968\n",
       "23                    0.005000      0.004659\n",
       "24                    0.011572      0.011235\n",
       "25                    0.027437      0.027739\n",
       "26                    0.001664      0.001913\n",
       "27                    0.001124      0.001069\n",
       "28                    0.064117      0.064229\n",
       "29                    0.060360      0.060172\n",
       "30                    0.012863      0.014337\n",
       "31                    0.000989      0.001059\n",
       "32                    0.001106      0.001151\n",
       "33                    0.015777      0.015382\n",
       "34                    0.010452      0.010774\n",
       "35                    0.000069      0.000096\n",
       "36                    0.095393      0.094963\n",
       "37                    0.000957      0.000903\n",
       "38                    0.002368      0.002507\n",
       "39                    0.007370      0.007256\n",
       "40                    0.024229      0.024600\n",
       "41                    0.004112      0.004400\n",
       "42                    0.009148      0.008844\n",
       "43                    0.003983      0.003917\n",
       "44                    0.003673      0.004062\n",
       "45                    0.001334      0.001423\n",
       "46                    0.088408      0.085143\n",
       "47                    0.004902      0.005141\n",
       "48                    0.019635      0.019652\n",
       "49                    0.010228      0.009976\n",
       "50                    0.003154      0.003201\n",
       "51                    0.017753      0.017209\n",
       "52                    0.057813      0.058537\n",
       "53                    0.001315      0.001123\n",
       "54                    0.009860      0.010256\n",
       "55                    0.060357      0.059694\n",
       "56                    0.031186      0.031942\n",
       "57                    0.008448      0.008546\n",
       "58                    0.003945      0.004181"
      ]
     },
     "execution_count": 81,
     "metadata": {},
     "output_type": "execute_result"
    }
   ],
   "source": [
    "plot_df"
   ]
  },
  {
   "cell_type": "code",
   "execution_count": 90,
   "metadata": {},
   "outputs": [],
   "source": [
    "plot_df = pd.concat([summary_df['mean'], train_pixel_df], axis=1)\n",
    "plot_df = plot_df.set_axis(['Weighted Random Subsets', 'Training Set'], axis = 1)"
   ]
  },
  {
   "cell_type": "code",
   "execution_count": 83,
   "metadata": {},
   "outputs": [
    {
     "data": {
      "text/plain": [
       "Text(0, 0.5, '')"
      ]
     },
     "execution_count": 83,
     "metadata": {},
     "output_type": "execute_result"
    },
    {
     "data": {
      "image/png": "[encoded data removed]",
      "text/plain": [
       "<Figure size 640x480 with 1 Axes>"
      ]
     },
     "metadata": {},
     "output_type": "display_data"
    }
   ],
   "source": [
    "plot_df = plot_df.melt(var_name='set', value_name='count', ignore_index=False)\n",
    "plt = sns.barplot(data=plot_df, x=plot_df.index, y='count', hue='set')\n",
    "plt.set_xticklabels(plt.get_xticklabels(),rotation=90)\n",
    "plt.set_title('Mean pixel-wise class distribution over data subsets, n=10')\n",
    "plt.set_ylabel('')"
   ]
  },
  {
   "cell_type": "code",
   "execution_count": 87,
   "metadata": {},
   "outputs": [
    {
     "data": {
      "text/plain": [
       "Text(0, 0.5, '')"
      ]
     },
     "execution_count": 87,
     "metadata": {},
     "output_type": "execute_result"
    },
    {
     "data": {
      "image/png": "[encoded data removed]",
      "text/plain": [
       "<Figure size 640x480 with 1 Axes>"
      ]
     },
     "metadata": {},
     "output_type": "display_data"
    }
   ],
   "source": [
    "plt = sns.barplot(data=summary_df, x=summary_df.index, y='var')\n",
    "plt.set_xticklabels(plt.get_xticklabels(),rotation=90)\n",
    "plt.set_title(f'Pixel-wise class variance for Subsets: n = {len(pixel_dfs)}')\n",
    "plt.set_ylabel('')"
   ]
  },
  {
   "cell_type": "code",
   "execution_count": 89,
   "metadata": {},
   "outputs": [
    {
     "data": {
      "text/html": [
       "<div>\n",
       "<style scoped>\n",
       "    .dataframe tbody tr th:only-of-type {\n",
       "        vertical-align: middle;\n",
       "    }\n",
       "\n",
       "    .dataframe tbody tr th {\n",
       "        vertical-align: top;\n",
       "    }\n",
       "\n",
       "    .dataframe thead th {\n",
       "        text-align: right;\n",
       "    }\n",
       "</style>\n",
       "<table border=\"1\" class=\"dataframe\">\n",
       "  <thead>\n",
       "    <tr style=\"text-align: right;\">\n",
       "      <th></th>\n",
       "      <th>mean</th>\n",
       "      <th>var</th>\n",
       "    </tr>\n",
       "  </thead>\n",
       "  <tbody>\n",
       "    <tr>\n",
       "      <th>mean</th>\n",
       "      <td>1.00000</td>\n",
       "      <td>0.92874</td>\n",
       "    </tr>\n",
       "    <tr>\n",
       "      <th>var</th>\n",
       "      <td>0.92874</td>\n",
       "      <td>1.00000</td>\n",
       "    </tr>\n",
       "  </tbody>\n",
       "</table>\n",
       "</div>"
      ],
      "text/plain": [
       "         mean      var\n",
       "mean  1.00000  0.92874\n",
       "var   0.92874  1.00000"
      ]
     },
     "execution_count": 89,
     "metadata": {},
     "output_type": "execute_result"
    }
   ],
   "source": [
    "summary_df.corr()"
   ]
  },
  {
   "cell_type": "code",
   "execution_count": 19,
   "metadata": {},
   "outputs": [
    {
     "data": {
      "text/plain": [
       "Text(0, 0.5, '')"
      ]
     },
     "execution_count": 19,
     "metadata": {},
     "output_type": "execute_result"
    },
    {
     "data": {
      "image/png": "[encoded data removed]",
      "text/plain": [
       "<Figure size 640x480 with 1 Axes>"
      ]
     },
     "metadata": {},
     "output_type": "display_data"
    }
   ],
   "source": [
    "plt = sns.barplot(data=train_pixel_df, x=train_pixel_df.index, y='proportion')\n",
    "plt.set_xticklabels(plt.get_xticklabels(),rotation=90)\n",
    "plt.set_title('Pixel-wise class distribution for trainingset')\n",
    "plt.set_ylabel('')"
   ]
  },
  {
   "cell_type": "code",
   "execution_count": 95,
   "metadata": {},
   "outputs": [
    {
     "data": {
      "text/plain": [
       "0.000537255171582457"
      ]
     },
     "execution_count": 95,
     "metadata": {},
     "output_type": "execute_result"
    }
   ],
   "source": [
    "entropy(plot_df[\"Weighted Random Subsets\"], plot_df[\"Training Set\"])"
   ]
  },
  {
   "cell_type": "code",
   "execution_count": 92,
   "metadata": {},
   "outputs": [
    {
     "data": {
      "text/html": [
       "<div>\n",
       "<style scoped>\n",
       "    .dataframe tbody tr th:only-of-type {\n",
       "        vertical-align: middle;\n",
       "    }\n",
       "\n",
       "    .dataframe tbody tr th {\n",
       "        vertical-align: top;\n",
       "    }\n",
       "\n",
       "    .dataframe thead th {\n",
       "        text-align: right;\n",
       "    }\n",
       "</style>\n",
       "<table border=\"1\" class=\"dataframe\">\n",
       "  <thead>\n",
       "    <tr style=\"text-align: right;\">\n",
       "      <th></th>\n",
       "      <th>Weighted Random Subsets</th>\n",
       "      <th>Training Set</th>\n",
       "    </tr>\n",
       "    <tr>\n",
       "      <th>class</th>\n",
       "      <th></th>\n",
       "      <th></th>\n",
       "    </tr>\n",
       "  </thead>\n",
       "  <tbody>\n",
       "    <tr>\n",
       "      <th>0</th>\n",
       "      <td>0.011547</td>\n",
       "      <td>0.011119</td>\n",
       "    </tr>\n",
       "    <tr>\n",
       "      <th>1</th>\n",
       "      <td>0.000965</td>\n",
       "      <td>0.001009</td>\n",
       "    </tr>\n",
       "    <tr>\n",
       "      <th>2</th>\n",
       "      <td>0.003057</td>\n",
       "      <td>0.002947</td>\n",
       "    </tr>\n",
       "    <tr>\n",
       "      <th>3</th>\n",
       "      <td>0.007042</td>\n",
       "      <td>0.007078</td>\n",
       "    </tr>\n",
       "    <tr>\n",
       "      <th>4</th>\n",
       "      <td>0.000580</td>\n",
       "      <td>0.000592</td>\n",
       "    </tr>\n",
       "    <tr>\n",
       "      <th>5</th>\n",
       "      <td>0.010851</td>\n",
       "      <td>0.010650</td>\n",
       "    </tr>\n",
       "    <tr>\n",
       "      <th>6</th>\n",
       "      <td>0.013856</td>\n",
       "      <td>0.013843</td>\n",
       "    </tr>\n",
       "    <tr>\n",
       "      <th>7</th>\n",
       "      <td>0.009892</td>\n",
       "      <td>0.009987</td>\n",
       "    </tr>\n",
       "    <tr>\n",
       "      <th>8</th>\n",
       "      <td>0.001910</td>\n",
       "      <td>0.001743</td>\n",
       "    </tr>\n",
       "    <tr>\n",
       "      <th>9</th>\n",
       "      <td>0.006269</td>\n",
       "      <td>0.006073</td>\n",
       "    </tr>\n",
       "    <tr>\n",
       "      <th>10</th>\n",
       "      <td>0.065684</td>\n",
       "      <td>0.064759</td>\n",
       "    </tr>\n",
       "    <tr>\n",
       "      <th>11</th>\n",
       "      <td>0.017356</td>\n",
       "      <td>0.015899</td>\n",
       "    </tr>\n",
       "    <tr>\n",
       "      <th>12</th>\n",
       "      <td>0.006971</td>\n",
       "      <td>0.007418</td>\n",
       "    </tr>\n",
       "    <tr>\n",
       "      <th>13</th>\n",
       "      <td>0.029139</td>\n",
       "      <td>0.030323</td>\n",
       "    </tr>\n",
       "    <tr>\n",
       "      <th>14</th>\n",
       "      <td>0.047223</td>\n",
       "      <td>0.050020</td>\n",
       "    </tr>\n",
       "    <tr>\n",
       "      <th>15</th>\n",
       "      <td>0.004897</td>\n",
       "      <td>0.004988</td>\n",
       "    </tr>\n",
       "    <tr>\n",
       "      <th>16</th>\n",
       "      <td>0.016766</td>\n",
       "      <td>0.016682</td>\n",
       "    </tr>\n",
       "    <tr>\n",
       "      <th>17</th>\n",
       "      <td>0.007524</td>\n",
       "      <td>0.007688</td>\n",
       "    </tr>\n",
       "    <tr>\n",
       "      <th>18</th>\n",
       "      <td>0.000919</td>\n",
       "      <td>0.000944</td>\n",
       "    </tr>\n",
       "    <tr>\n",
       "      <th>19</th>\n",
       "      <td>0.007880</td>\n",
       "      <td>0.007656</td>\n",
       "    </tr>\n",
       "    <tr>\n",
       "      <th>20</th>\n",
       "      <td>0.001114</td>\n",
       "      <td>0.001041</td>\n",
       "    </tr>\n",
       "    <tr>\n",
       "      <th>21</th>\n",
       "      <td>0.004532</td>\n",
       "      <td>0.004284</td>\n",
       "    </tr>\n",
       "    <tr>\n",
       "      <th>22</th>\n",
       "      <td>0.041929</td>\n",
       "      <td>0.041968</td>\n",
       "    </tr>\n",
       "    <tr>\n",
       "      <th>23</th>\n",
       "      <td>0.005000</td>\n",
       "      <td>0.004659</td>\n",
       "    </tr>\n",
       "    <tr>\n",
       "      <th>24</th>\n",
       "      <td>0.011572</td>\n",
       "      <td>0.011235</td>\n",
       "    </tr>\n",
       "    <tr>\n",
       "      <th>25</th>\n",
       "      <td>0.027437</td>\n",
       "      <td>0.027739</td>\n",
       "    </tr>\n",
       "    <tr>\n",
       "      <th>26</th>\n",
       "      <td>0.001664</td>\n",
       "      <td>0.001913</td>\n",
       "    </tr>\n",
       "    <tr>\n",
       "      <th>27</th>\n",
       "      <td>0.001124</td>\n",
       "      <td>0.001069</td>\n",
       "    </tr>\n",
       "    <tr>\n",
       "      <th>28</th>\n",
       "      <td>0.064117</td>\n",
       "      <td>0.064229</td>\n",
       "    </tr>\n",
       "    <tr>\n",
       "      <th>29</th>\n",
       "      <td>0.060360</td>\n",
       "      <td>0.060172</td>\n",
       "    </tr>\n",
       "    <tr>\n",
       "      <th>30</th>\n",
       "      <td>0.012863</td>\n",
       "      <td>0.014337</td>\n",
       "    </tr>\n",
       "    <tr>\n",
       "      <th>31</th>\n",
       "      <td>0.000989</td>\n",
       "      <td>0.001059</td>\n",
       "    </tr>\n",
       "    <tr>\n",
       "      <th>32</th>\n",
       "      <td>0.001106</td>\n",
       "      <td>0.001151</td>\n",
       "    </tr>\n",
       "    <tr>\n",
       "      <th>33</th>\n",
       "      <td>0.015777</td>\n",
       "      <td>0.015382</td>\n",
       "    </tr>\n",
       "    <tr>\n",
       "      <th>34</th>\n",
       "      <td>0.010452</td>\n",
       "      <td>0.010774</td>\n",
       "    </tr>\n",
       "    <tr>\n",
       "      <th>35</th>\n",
       "      <td>0.000069</td>\n",
       "      <td>0.000096</td>\n",
       "    </tr>\n",
       "    <tr>\n",
       "      <th>36</th>\n",
       "      <td>0.095393</td>\n",
       "      <td>0.094963</td>\n",
       "    </tr>\n",
       "    <tr>\n",
       "      <th>37</th>\n",
       "      <td>0.000957</td>\n",
       "      <td>0.000903</td>\n",
       "    </tr>\n",
       "    <tr>\n",
       "      <th>38</th>\n",
       "      <td>0.002368</td>\n",
       "      <td>0.002507</td>\n",
       "    </tr>\n",
       "    <tr>\n",
       "      <th>39</th>\n",
       "      <td>0.007370</td>\n",
       "      <td>0.007256</td>\n",
       "    </tr>\n",
       "    <tr>\n",
       "      <th>40</th>\n",
       "      <td>0.024229</td>\n",
       "      <td>0.024600</td>\n",
       "    </tr>\n",
       "    <tr>\n",
       "      <th>41</th>\n",
       "      <td>0.004112</td>\n",
       "      <td>0.004400</td>\n",
       "    </tr>\n",
       "    <tr>\n",
       "      <th>42</th>\n",
       "      <td>0.009148</td>\n",
       "      <td>0.008844</td>\n",
       "    </tr>\n",
       "    <tr>\n",
       "      <th>43</th>\n",
       "      <td>0.003983</td>\n",
       "      <td>0.003917</td>\n",
       "    </tr>\n",
       "    <tr>\n",
       "      <th>44</th>\n",
       "      <td>0.003673</td>\n",
       "      <td>0.004062</td>\n",
       "    </tr>\n",
       "    <tr>\n",
       "      <th>45</th>\n",
       "      <td>0.001334</td>\n",
       "      <td>0.001423</td>\n",
       "    </tr>\n",
       "    <tr>\n",
       "      <th>46</th>\n",
       "      <td>0.088408</td>\n",
       "      <td>0.085143</td>\n",
       "    </tr>\n",
       "    <tr>\n",
       "      <th>47</th>\n",
       "      <td>0.004902</td>\n",
       "      <td>0.005141</td>\n",
       "    </tr>\n",
       "    <tr>\n",
       "      <th>48</th>\n",
       "      <td>0.019635</td>\n",
       "      <td>0.019652</td>\n",
       "    </tr>\n",
       "    <tr>\n",
       "      <th>49</th>\n",
       "      <td>0.010228</td>\n",
       "      <td>0.009976</td>\n",
       "    </tr>\n",
       "    <tr>\n",
       "      <th>50</th>\n",
       "      <td>0.003154</td>\n",
       "      <td>0.003201</td>\n",
       "    </tr>\n",
       "    <tr>\n",
       "      <th>51</th>\n",
       "      <td>0.017753</td>\n",
       "      <td>0.017209</td>\n",
       "    </tr>\n",
       "    <tr>\n",
       "      <th>52</th>\n",
       "      <td>0.057813</td>\n",
       "      <td>0.058537</td>\n",
       "    </tr>\n",
       "    <tr>\n",
       "      <th>53</th>\n",
       "      <td>0.001315</td>\n",
       "      <td>0.001123</td>\n",
       "    </tr>\n",
       "    <tr>\n",
       "      <th>54</th>\n",
       "      <td>0.009860</td>\n",
       "      <td>0.010256</td>\n",
       "    </tr>\n",
       "    <tr>\n",
       "      <th>55</th>\n",
       "      <td>0.060357</td>\n",
       "      <td>0.059694</td>\n",
       "    </tr>\n",
       "    <tr>\n",
       "      <th>56</th>\n",
       "      <td>0.031186</td>\n",
       "      <td>0.031942</td>\n",
       "    </tr>\n",
       "    <tr>\n",
       "      <th>57</th>\n",
       "      <td>0.008448</td>\n",
       "      <td>0.008546</td>\n",
       "    </tr>\n",
       "    <tr>\n",
       "      <th>58</th>\n",
       "      <td>0.003945</td>\n",
       "      <td>0.004181</td>\n",
       "    </tr>\n",
       "  </tbody>\n",
       "</table>\n",
       "</div>"
      ],
      "text/plain": [
       "       Weighted Random Subsets  Training Set\n",
       "class                                       \n",
       "0                     0.011547      0.011119\n",
       "1                     0.000965      0.001009\n",
       "2                     0.003057      0.002947\n",
       "3                     0.007042      0.007078\n",
       "4                     0.000580      0.000592\n",
       "5                     0.010851      0.010650\n",
       "6                     0.013856      0.013843\n",
       "7                     0.009892      0.009987\n",
       "8                     0.001910      0.001743\n",
       "9                     0.006269      0.006073\n",
       "10                    0.065684      0.064759\n",
       "11                    0.017356      0.015899\n",
       "12                    0.006971      0.007418\n",
       "13                    0.029139      0.030323\n",
       "14                    0.047223      0.050020\n",
       "15                    0.004897      0.004988\n",
       "16                    0.016766      0.016682\n",
       "17                    0.007524      0.007688\n",
       "18                    0.000919      0.000944\n",
       "19                    0.007880      0.007656\n",
       "20                    0.001114      0.001041\n",
       "21                    0.004532      0.004284\n",
       "22                    0.041929      0.041968\n",
       "23                    0.005000      0.004659\n",
       "24                    0.011572      0.011235\n",
       "25                    0.027437      0.027739\n",
       "26                    0.001664      0.001913\n",
       "27                    0.001124      0.001069\n",
       "28                    0.064117      0.064229\n",
       "29                    0.060360      0.060172\n",
       "30                    0.012863      0.014337\n",
       "31                    0.000989      0.001059\n",
       "32                    0.001106      0.001151\n",
       "33                    0.015777      0.015382\n",
       "34                    0.010452      0.010774\n",
       "35                    0.000069      0.000096\n",
       "36                    0.095393      0.094963\n",
       "37                    0.000957      0.000903\n",
       "38                    0.002368      0.002507\n",
       "39                    0.007370      0.007256\n",
       "40                    0.024229      0.024600\n",
       "41                    0.004112      0.004400\n",
       "42                    0.009148      0.008844\n",
       "43                    0.003983      0.003917\n",
       "44                    0.003673      0.004062\n",
       "45                    0.001334      0.001423\n",
       "46                    0.088408      0.085143\n",
       "47                    0.004902      0.005141\n",
       "48                    0.019635      0.019652\n",
       "49                    0.010228      0.009976\n",
       "50                    0.003154      0.003201\n",
       "51                    0.017753      0.017209\n",
       "52                    0.057813      0.058537\n",
       "53                    0.001315      0.001123\n",
       "54                    0.009860      0.010256\n",
       "55                    0.060357      0.059694\n",
       "56                    0.031186      0.031942\n",
       "57                    0.008448      0.008546\n",
       "58                    0.003945      0.004181"
      ]
     },
     "execution_count": 92,
     "metadata": {},
     "output_type": "execute_result"
    }
   ],
   "source": [
    "plot_df"
   ]
  },
  {
   "cell_type": "code",
   "execution_count": 14,
   "metadata": {},
   "outputs": [
    {
     "ename": "NameError",
     "evalue": "name 'approximate_validation_mIoU' is not defined",
     "output_type": "error",
     "traceback": [
      "\u001b[0;31m---------------------------------------------------------------------------\u001b[0m",
      "\u001b[0;31mNameError\u001b[0m                                 Traceback (most recent call last)",
      "Cell \u001b[0;32mIn[14], line 1\u001b[0m\n\u001b[0;32m----> 1\u001b[0m pixel_df[\u001b[39m'\u001b[39m\u001b[39mmIoU\u001b[39m\u001b[39m'\u001b[39m] \u001b[39m=\u001b[39m approximate_validation_mIoU\n\u001b[1;32m      2\u001b[0m pixel_df[\u001b[39m'\u001b[39m\u001b[39mtrain_proportions\u001b[39m\u001b[39m'\u001b[39m] \u001b[39m=\u001b[39m train_pixel_df[\u001b[39m'\u001b[39m\u001b[39mclass proportions\u001b[39m\u001b[39m'\u001b[39m]\n\u001b[1;32m      3\u001b[0m \u001b[39mprint\u001b[39m(pixel_df\u001b[39m.\u001b[39mcorr())\n",
      "\u001b[0;31mNameError\u001b[0m: name 'approximate_validation_mIoU' is not defined"
     ]
    }
   ],
   "source": [
    "pixel_df['mIoU'] = approximate_validation_mIoU\n",
    "pixel_df['train_proportions'] = train_pixel_df['class proportions']\n",
    "print(pixel_df.corr())"
   ]
  },
  {
   "cell_type": "code",
   "execution_count": 73,
   "metadata": {},
   "outputs": [
    {
     "name": "stdout",
     "output_type": "stream",
     "text": [
      "KL divergence between training set and class-wise sampling: 0.015922807772260364\n",
      "KL divergence between training set and the validation set is: 0.03356792530244201\n"
     ]
    }
   ],
   "source": [
    "print(f'KL divergence between training set and class-wise sampling: {entropy(pixel_df[\"count\"], train_pixel_df[\"class proportions\"])}')\n",
    "print(f'KL divergence between training set and the validation set is: {entropy(pixel_df[\"count\"], val_pixel_df[\"valset\"])}')"
   ]
  },
  {
   "cell_type": "markdown",
   "metadata": {},
   "source": [
    "## Image-Occurence class distributions"
   ]
  },
  {
   "cell_type": "code",
   "execution_count": 47,
   "metadata": {},
   "outputs": [],
   "source": [
    "def get_image_occurence_dist(dataset):\n",
    "    uniques = []\n",
    "    for batch in enumerate(dataset):\n",
    "        index, (image, labels, shape, name) = batch\n",
    "        unique = np.unique(labels, return_counts=False)\n",
    "        uniques.append(unique)\n",
    "    pixel_df = pd.DataFrame({'class': np.concatenate(uniques)})\n",
    "    pixel_df.drop(pixel_df[pixel_df['class'] == -1].index, inplace=True)\n",
    "    return pixel_df\n",
    "\n",
    "train_pixel_df = get_image_occurence_dist(trainset)\n",
    "val_pixel_df = get_image_occurence_dist(valset)"
   ]
  },
  {
   "cell_type": "code",
   "execution_count": 48,
   "metadata": {},
   "outputs": [],
   "source": [
    "train_pixel_df = train_pixel_df.set_axis(['trainset'], axis=1)\n",
    "val_pixel_df = val_pixel_df.set_axis(['valset'], axis=1)"
   ]
  },
  {
   "cell_type": "code",
   "execution_count": 50,
   "metadata": {},
   "outputs": [
    {
     "name": "stderr",
     "output_type": "stream",
     "text": [
      " 60%|██████    | 6/10 [04:06<02:44, 41.15s/it]\n"
     ]
    },
    {
     "ename": "KeyboardInterrupt",
     "evalue": "",
     "output_type": "error",
     "traceback": [
      "\u001b[0;31m---------------------------------------------------------------------------\u001b[0m",
      "\u001b[0;31mKeyboardInterrupt\u001b[0m                         Traceback (most recent call last)",
      "Cell \u001b[0;32mIn[50], line 17\u001b[0m\n\u001b[1;32m     15\u001b[0m uniques \u001b[39m=\u001b[39m []\n\u001b[1;32m     16\u001b[0m \u001b[39mfor\u001b[39;00m index \u001b[39min\u001b[39;00m subset:\n\u001b[0;32m---> 17\u001b[0m     image, labels, shape, name \u001b[39m=\u001b[39m trainset\u001b[39m.\u001b[39;49m\u001b[39m__getitem__\u001b[39;49m(index)\n\u001b[1;32m     18\u001b[0m     unique \u001b[39m=\u001b[39m np\u001b[39m.\u001b[39munique(labels, return_counts\u001b[39m=\u001b[39m\u001b[39mFalse\u001b[39;00m)\n\u001b[1;32m     19\u001b[0m     uniques\u001b[39m.\u001b[39mappend(unique)\n",
      "File \u001b[0;32m~/Documents/MsC-DS/Data_Science_Research_Project/Coresets/Repositories/HRNet-Semantic-Segmentation-Coreset/lib/datasets/pascal_ctx.py:187\u001b[0m, in \u001b[0;36mPASCALContext.__getitem__\u001b[0;34m(self, index)\u001b[0m\n\u001b[1;32m    185\u001b[0m     label \u001b[39m=\u001b[39m \u001b[39mself\u001b[39m\u001b[39m.\u001b[39mlabel_transform(label)\n\u001b[1;32m    186\u001b[0m \u001b[39melse\u001b[39;00m:\n\u001b[0;32m--> 187\u001b[0m     image, label \u001b[39m=\u001b[39m \u001b[39mself\u001b[39;49m\u001b[39m.\u001b[39;49mgen_sample(image, label, \u001b[39mself\u001b[39;49m\u001b[39m.\u001b[39;49mmulti_scale, \u001b[39mself\u001b[39;49m\u001b[39m.\u001b[39;49mflip)\n\u001b[1;32m    189\u001b[0m \u001b[39mreturn\u001b[39;00m image\u001b[39m.\u001b[39mcopy(), label\u001b[39m.\u001b[39mcopy(), np\u001b[39m.\u001b[39marray(size), name\n",
      "File \u001b[0;32m~/Documents/MsC-DS/Data_Science_Research_Project/Coresets/Repositories/HRNet-Semantic-Segmentation-Coreset/lib/datasets/base_dataset.py:164\u001b[0m, in \u001b[0;36mBaseDataset.gen_sample\u001b[0;34m(self, image, label, multi_scale, is_flip)\u001b[0m\n\u001b[1;32m    160\u001b[0m     image, label \u001b[39m=\u001b[39m \u001b[39mself\u001b[39m\u001b[39m.\u001b[39mmulti_scale_aug(image, label,\n\u001b[1;32m    161\u001b[0m                                         rand_scale\u001b[39m=\u001b[39mrand_scale)\n\u001b[1;32m    163\u001b[0m image \u001b[39m=\u001b[39m \u001b[39mself\u001b[39m\u001b[39m.\u001b[39mrandom_brightness(image)\n\u001b[0;32m--> 164\u001b[0m image \u001b[39m=\u001b[39m \u001b[39mself\u001b[39;49m\u001b[39m.\u001b[39;49minput_transform(image)\n\u001b[1;32m    165\u001b[0m label \u001b[39m=\u001b[39m \u001b[39mself\u001b[39m\u001b[39m.\u001b[39mlabel_transform(label)\n\u001b[1;32m    167\u001b[0m image \u001b[39m=\u001b[39m image\u001b[39m.\u001b[39mtranspose((\u001b[39m2\u001b[39m, \u001b[39m0\u001b[39m, \u001b[39m1\u001b[39m))\n",
      "File \u001b[0;32m~/Documents/MsC-DS/Data_Science_Research_Project/Coresets/Repositories/HRNet-Semantic-Segmentation-Coreset/lib/datasets/base_dataset.py:47\u001b[0m, in \u001b[0;36mBaseDataset.input_transform\u001b[0;34m(self, image)\u001b[0m\n\u001b[1;32m     45\u001b[0m \u001b[39mdef\u001b[39;00m \u001b[39minput_transform\u001b[39m(\u001b[39mself\u001b[39m, image):\n\u001b[1;32m     46\u001b[0m     image \u001b[39m=\u001b[39m image\u001b[39m.\u001b[39mastype(np\u001b[39m.\u001b[39mfloat32)[:, :, ::\u001b[39m-\u001b[39m\u001b[39m1\u001b[39m]\n\u001b[0;32m---> 47\u001b[0m     image \u001b[39m=\u001b[39m image \u001b[39m/\u001b[39;49m \u001b[39m255.0\u001b[39;49m\n\u001b[1;32m     48\u001b[0m     image \u001b[39m-\u001b[39m\u001b[39m=\u001b[39m \u001b[39mself\u001b[39m\u001b[39m.\u001b[39mmean\n\u001b[1;32m     49\u001b[0m     image \u001b[39m/\u001b[39m\u001b[39m=\u001b[39m \u001b[39mself\u001b[39m\u001b[39m.\u001b[39mstd\n",
      "\u001b[0;31mKeyboardInterrupt\u001b[0m: "
     ]
    }
   ],
   "source": [
    "experiment_dfs = []\n",
    "\n",
    "for subset_path in subset_paths[:1]:\n",
    "    \n",
    "    subsets = pickle2dict(subset_path, 'stochastic_subsets')\n",
    "    stochastic_subsets = []\n",
    "    for subset in subsets:\n",
    "        stochastic_subsets.append([x[0] for x in subset])\n",
    "    \n",
    "    class_distributions = []\n",
    "    subset_dataframes = []\n",
    "    i=0\n",
    "    random_subset = random.sample(stochastic_subsets, 10)\n",
    "    for subset in tqdm(random_subset, total=len(random_subset)):\n",
    "        uniques = []\n",
    "        for index in subset:\n",
    "            image, labels, shape, name = trainset.__getitem__(index)\n",
    "            unique = np.unique(labels, return_counts=False)\n",
    "            uniques.append(unique)\n",
    "\n",
    "        pixel_df = pd.DataFrame({'class': np.concatenate(uniques)})\n",
    "        pixel_df.drop(pixel_df[pixel_df['class'] == -1].index, inplace=True)\n",
    "        subset_dataframes.append(pixel_df)\n",
    "\n",
    "    # summary_df = pd.DataFrame({'mean':pd.concat(subset_dataframes, axis=1).mean(axis=1), 'var':pd.concat(subset_dataframes, axis=1).var(axis=1)})\n",
    "\n",
    "    # experiment_dfs.append(summary_df)\n",
    "\n",
    "\n",
    "# experiment_dfs = []\n",
    "\n",
    "# for subset_path in subset_paths:\n",
    "    \n",
    "#     subsets = pickle2dict(subset_path, 'stochastic_subsets')\n",
    "#     stochastic_subsets = []\n",
    "#     for subset in subsets:\n",
    "#         stochastic_subsets.append([x[0] for x in subset])\n",
    "\n",
    "#     class_distributions = []\n",
    "#     subset_dataframes = []\n",
    "#     i=0\n",
    "#     random_subset = random.sample(stochastic_subsets, 10)\n",
    "#     for subset in tqdm(random_subset, total=len(random_subset)):\n",
    "#         uniques = []\n",
    "#         counts = []\n",
    "#         for index in subset:\n",
    "#             image, labels, shape, name = trainset.__getitem__(index)\n",
    "#             unique, count = np.unique(labels, return_counts=True)\n",
    "#             uniques.append(unique)\n",
    "#             counts.append(count)\n",
    "\n",
    "#         pixel_df = pd.DataFrame({'class': np.concatenate(uniques), 'count': np.concatenate(counts)})\n",
    "#         pixel_df = pixel_df.groupby('class').sum()\n",
    "#         pixel_df = pixel_df.drop(index=-1)\n",
    "#         pixel_df = pixel_df / pixel_df.sum()\n",
    "            \n",
    "#         subset_dataframes.append(pixel_df)\n",
    "\n",
    "#     summary_df = pd.DataFrame({'mean':pd.concat(subset_dataframes, axis=1).mean(axis=1), 'var':pd.concat(subset_dataframes, axis=1).var(axis=1)})\n",
    "\n",
    "#     experiment_dfs.append(summary_df)"
   ]
  },
  {
   "cell_type": "code",
   "execution_count": 42,
   "metadata": {},
   "outputs": [],
   "source": [
    "# filtered = train_pixel_df.groupby(train_pixel_df.index).filter(lambda x: x != -1)"
   ]
  },
  {
   "cell_type": "code",
   "execution_count": 51,
   "metadata": {},
   "outputs": [],
   "source": [
    "total_df = pd.concat([train_pixel_df, val_pixel_df] + subset_dataframes)"
   ]
  },
  {
   "cell_type": "code",
   "execution_count": 55,
   "metadata": {},
   "outputs": [],
   "source": [
    "plot_df = total_df.melt(var_name='set', value_name='count', ignore_index=False)"
   ]
  },
  {
   "cell_type": "code",
   "execution_count": 61,
   "metadata": {},
   "outputs": [
    {
     "data": {
      "text/plain": [
       "<Axes: ylabel='Count'>"
      ]
     },
     "execution_count": 61,
     "metadata": {},
     "output_type": "execute_result"
    },
    {
     "data": {
      "image/png": "[encoded data removed]",
      "text/plain": [
       "<Figure size 640x480 with 1 Axes>"
      ]
     },
     "metadata": {},
     "output_type": "display_data"
    }
   ],
   "source": [
    "sns.histplot(train_pixel_df)"
   ]
  },
  {
   "cell_type": "code",
   "execution_count": 62,
   "metadata": {},
   "outputs": [
    {
     "data": {
      "text/plain": [
       "<Axes: ylabel='Count'>"
      ]
     },
     "execution_count": 62,
     "metadata": {},
     "output_type": "execute_result"
    },
    {
     "data": {
      "image/png": "[encoded data removed]",
      "text/plain": [
       "<Figure size 640x480 with 1 Axes>"
      ]
     },
     "metadata": {},
     "output_type": "display_data"
    }
   ],
   "source": [
    "sns.histplot(val_pixel_df)"
   ]
  },
  {
   "cell_type": "code",
   "execution_count": 64,
   "metadata": {},
   "outputs": [
    {
     "data": {
      "text/plain": [
       "<Axes: ylabel='Count'>"
      ]
     },
     "execution_count": 64,
     "metadata": {},
     "output_type": "execute_result"
    },
    {
     "data": {
      "image/png": "[encoded data removed]",
      "text/plain": [
       "<Figure size 640x480 with 1 Axes>"
      ]
     },
     "metadata": {},
     "output_type": "display_data"
    }
   ],
   "source": [
    "sns.histplot(subset_dataframes[0])"
   ]
  },
  {
   "cell_type": "code",
   "execution_count": null,
   "metadata": {},
   "outputs": [],
   "source": []
  }
 ],
 "metadata": {
  "kernelspec": {
   "display_name": "venv",
   "language": "python",
   "name": "python3"
  },
  "language_info": {
   "codemirror_mode": {
    "name": "ipython",
    "version": 3
   },
   "file_extension": ".py",
   "mimetype": "text/x-python",
   "name": "python",
   "nbconvert_exporter": "python",
   "pygments_lexer": "ipython3",
   "version": "3.8.17"
  },
  "orig_nbformat": 4
 },
 "nbformat": 4,
 "nbformat_minor": 2
}
