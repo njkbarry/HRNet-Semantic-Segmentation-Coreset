{
 "cells": [
  {
   "cell_type": "code",
   "execution_count": 1,
   "metadata": {},
   "outputs": [
    {
     "name": "stderr",
     "output_type": "stream",
     "text": [
      "/home/nickbarry/Documents/MsC-DS/Data_Science_Research_Project/Coresets/Repositories/HRNet-Semantic-Segmentation-Coreset/venv/lib/python3.8/site-packages/tqdm/auto.py:21: TqdmWarning: IProgress not found. Please update jupyter and ipywidgets. See https://ipywidgets.readthedocs.io/en/stable/user_install.html\n",
      "  from .autonotebook import tqdm as notebook_tqdm\n"
     ]
    }
   ],
   "source": [
    "import pickle\n",
    "import os\n",
    "import sys\n",
    "sys.path.insert(0, '/home/nickbarry/Documents/MsC-DS/Data_Science_Research_Project/Coresets/Repositories/HRNet-Semantic-Segmentation-Coreset')\n",
    "sys.path.insert(0, '/home/nickbarry/Documents/MsC-DS/Data_Science_Research_Project/Coresets/Repositories/HRNet-Semantic-Segmentation-Coreset/lib')\n",
    "from lib.datasets.pascal_ctx import PASCALContext\n",
    "from tqdm import tqdm\n",
    "import seaborn as sns\n",
    "import pandas as pd\n",
    "from collections import OrderedDict\n",
    "from scipy.stats import spearmanr\n",
    "import numpy as np\n",
    "from matplotlib import pyplot as plt"
   ]
  },
  {
   "cell_type": "code",
   "execution_count": 3,
   "metadata": {},
   "outputs": [
    {
     "data": {
      "text/plain": [
       "'/home/nickbarry/Documents/MsC-DS/Data_Science_Research_Project/Coresets/Repositories/HRNet-Semantic-Segmentation-Coreset/analysis/rank_correlation'"
      ]
     },
     "execution_count": 3,
     "metadata": {},
     "output_type": "execute_result"
    }
   ],
   "source": [
    "os.getcwd()"
   ]
  },
  {
   "cell_type": "code",
   "execution_count": 4,
   "metadata": {},
   "outputs": [
    {
     "name": "stdout",
     "output_type": "stream",
     "text": [
      "Stochastic subset file exists: True\n"
     ]
    }
   ],
   "source": [
    "subset_paths = [\n",
    "    '../../data/preprocessing/pascal_ctx_ViT_cossim_0.1_gc_0.1_0.5_stochastic_subsets.pkl',\n",
    "    '../../data/preprocessing/pascal_ctx_ViT_cossim_0.001_gc_0.1_0.5_stochastic_subsets.pkl',\n",
    "    '../../data/preprocessing/pascal_ctx_ViT_cossim_1e-05_gc_0.1_0.5_stochastic_subsets.pkl',\n",
    "]\n",
    "print(f'Stochastic subset file exists: {os.path.exists(subset_paths[0])}')"
   ]
  },
  {
   "cell_type": "markdown",
   "metadata": {},
   "source": [
    "### Stochastic subset loading"
   ]
  },
  {
   "cell_type": "code",
   "execution_count": 5,
   "metadata": {},
   "outputs": [],
   "source": [
    "def pickle2dict(file_name, key):\n",
    "    \"\"\"\n",
    "    Load dictionary from pickle file\n",
    "    \"\"\"\n",
    "    with open(file_name, \"rb\") as fIn:\n",
    "        stored_data = pickle.load(fIn)\n",
    "        value = stored_data[key]\n",
    "    return value"
   ]
  },
  {
   "cell_type": "code",
   "execution_count": 6,
   "metadata": {},
   "outputs": [],
   "source": [
    "experiments = []\n",
    "for subset_path in subset_paths:\n",
    "    subsets = pickle2dict(subset_path, 'stochastic_subsets')\n",
    "    stochastic_subsets = []\n",
    "    for subset in subsets:\n",
    "        stochastic_subsets.append([x[0] for x in subset])\n",
    "    experiments.append(stochastic_subsets)"
   ]
  },
  {
   "cell_type": "markdown",
   "metadata": {},
   "source": [
    "### Spearman's Rank Correlation"
   ]
  },
  {
   "cell_type": "code",
   "execution_count": 7,
   "metadata": {},
   "outputs": [],
   "source": [
    "# lens = np.arange(1, len(stochastic_subsets[0]))\n",
    "# corrs = []\n",
    "# p_vals = []\n",
    "# for n in lens:\n",
    "#     corr = [spearmanr(stochastic_subsets[0][:n], s[:n]) for s in stochastic_subsets][1:]\n",
    "#     corrs.append(np.mean([x.statistic for x in corr]))\n",
    "#     p_vals.append(np.mean([x.pvalue for x in corr]))\n"
   ]
  },
  {
   "cell_type": "code",
   "execution_count": 8,
   "metadata": {},
   "outputs": [],
   "source": [
    "# plt.plot(lens, corrs)\n",
    "# plt.plot(lens, p_vals)"
   ]
  },
  {
   "cell_type": "markdown",
   "metadata": {},
   "source": [
    "## Jaccard Similarity"
   ]
  },
  {
   "cell_type": "code",
   "execution_count": 2,
   "metadata": {},
   "outputs": [],
   "source": [
    "def jaccard_set(list1, list2):\n",
    "    \"\"\"Define Jaccard Similarity function for two sets\"\"\"\n",
    "    intersection = len(list(set(list1).intersection(list2)))\n",
    "    union = (len(list1) + len(list2)) - intersection\n",
    "    return float(intersection) / union"
   ]
  },
  {
   "cell_type": "code",
   "execution_count": 14,
   "metadata": {},
   "outputs": [
    {
     "name": "stderr",
     "output_type": "stream",
     "text": [
      "  0%|          | 0/300 [00:00<?, ?it/s]"
     ]
    },
    {
     "name": "stderr",
     "output_type": "stream",
     "text": [
      "100%|██████████| 300/300 [00:07<00:00, 42.28it/s] \n",
      "100%|██████████| 300/300 [00:07<00:00, 40.80it/s] \n",
      "100%|██████████| 300/300 [00:07<00:00, 39.46it/s] \n"
     ]
    },
    {
     "data": {
      "text/plain": [
       "<matplotlib.legend.Legend at 0x7f1afcb74b80>"
      ]
     },
     "execution_count": 14,
     "metadata": {},
     "output_type": "execute_result"
    },
    {
     "data": {
      "image/png": "[encoded data removed]",
      "text/plain": [
       "<Figure size 640x480 with 1 Axes>"
      ]
     },
     "metadata": {},
     "output_type": "display_data"
    }
   ],
   "source": [
    "for stochastic_subsets in experiments:\n",
    "    n = len(stochastic_subsets)\n",
    "    jaccs = []\n",
    "    for _,i in tqdm(enumerate(range(n)), total=n):\n",
    "        for j in range(i+1,n):\n",
    "            jaccs.append(jaccard_set(stochastic_subsets[i], stochastic_subsets[j]))\n",
    "    plt.hist(jaccs, density=True)\n",
    "plt.title('Jaccard Similarity for epsilon subsets')\n",
    "plt.xlabel('Jaccard Similarity')\n",
    "plt.axvline(x = 0.33, color = 'r', label = 'Random Selection')\n",
    "plt.legend(['Random Selection', '0.1', '0.001', '0.00001'])\n"
   ]
  },
  {
   "cell_type": "code",
   "execution_count": null,
   "metadata": {},
   "outputs": [],
   "source": []
  },
  {
   "cell_type": "code",
   "execution_count": 6,
   "metadata": {},
   "outputs": [
    {
     "data": {
      "text/plain": [
       "0.32766861391396707"
      ]
     },
     "execution_count": 6,
     "metadata": {},
     "output_type": "execute_result"
    }
   ],
   "source": [
    "import random\n",
    "n = 5000\n",
    "p = 0.5\n",
    "test1 = random.sample(range(n), int(n*p))\n",
    "test2 = random.sample(range(n), int(n*p))\n",
    "assert len(np.unique(test1)) == len(test1)\n",
    "assert len(np.unique(test2)) == len(test2)\n",
    "jaccard_set(test1, test2)"
   ]
  },
  {
   "cell_type": "code",
   "execution_count": null,
   "metadata": {},
   "outputs": [],
   "source": []
  },
  {
   "cell_type": "code",
   "execution_count": null,
   "metadata": {},
   "outputs": [],
   "source": []
  }
 ],
 "metadata": {
  "kernelspec": {
   "display_name": "venv",
   "language": "python",
   "name": "python3"
  },
  "language_info": {
   "codemirror_mode": {
    "name": "ipython",
    "version": 3
   },
   "file_extension": ".py",
   "mimetype": "text/x-python",
   "name": "python",
   "nbconvert_exporter": "python",
   "pygments_lexer": "ipython3",
   "version": "3.8.17"
  },
  "orig_nbformat": 4
 },
 "nbformat": 4,
 "nbformat_minor": 2
}
